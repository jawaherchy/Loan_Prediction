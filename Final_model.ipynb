{
 "cells": [
  {
   "cell_type": "code",
   "execution_count": 5,
   "id": "editorial-courage",
   "metadata": {},
   "outputs": [],
   "source": [
    "# using the model\n",
    "from joblib import dump,load\n",
    "import numpy as np\n",
    "model = load('loan.joblib')"
   ]
  },
  {
   "cell_type": "code",
   "execution_count": null,
   "id": "liked-penny",
   "metadata": {},
   "outputs": [],
   "source": [
    "# 1 means its verified\n",
    "# 0 means its not verified"
   ]
  },
  {
   "cell_type": "code",
   "execution_count": 3,
   "id": "prime-senegal",
   "metadata": {},
   "outputs": [
    {
     "data": {
      "text/plain": [
       "array([0])"
      ]
     },
     "execution_count": 3,
     "metadata": {},
     "output_type": "execute_result"
    }
   ],
   "source": [
    "features = np.array([[0,8.00,4,44500.0,0,44,7.77,0.0,22.7,0.0,13.0,8.853665,3.044522]])\n",
    "model.predict(features)"
   ]
  },
  {
   "cell_type": "code",
   "execution_count": 4,
   "id": "illegal-persian",
   "metadata": {},
   "outputs": [
    {
     "data": {
      "text/plain": [
       "array([1])"
      ]
     },
     "execution_count": 4,
     "metadata": {},
     "output_type": "execute_result"
    }
   ],
   "source": [
    "features = np.array([[0,7.90,0,68250.0,1,42,22.33,0.0,50.3,0.0,16.0,9.740969,3.401197]])\n",
    "model.predict(features)"
   ]
  },
  {
   "cell_type": "code",
   "execution_count": null,
   "id": "proved-notebook",
   "metadata": {},
   "outputs": [],
   "source": []
  }
 ],
 "metadata": {
  "kernelspec": {
   "display_name": "Python 3",
   "language": "python",
   "name": "python3"
  },
  "language_info": {
   "codemirror_mode": {
    "name": "ipython",
    "version": 3
   },
   "file_extension": ".py",
   "mimetype": "text/x-python",
   "name": "python",
   "nbconvert_exporter": "python",
   "pygments_lexer": "ipython3",
   "version": "3.9.0"
  }
 },
 "nbformat": 4,
 "nbformat_minor": 5
}
