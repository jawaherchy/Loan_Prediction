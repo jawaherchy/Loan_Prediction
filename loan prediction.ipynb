{
 "cells": [
  {
   "cell_type": "markdown",
   "id": "promotional-romance",
   "metadata": {},
   "source": [
    "## Import module"
   ]
  },
  {
   "cell_type": "code",
   "execution_count": 1,
   "id": "ignored-pressing",
   "metadata": {},
   "outputs": [],
   "source": [
    "import pandas as pd\n",
    "import numpy as np\n",
    "import seaborn as sns\n",
    "import matplotlib\n",
    "from matplotlib import pyplot as plt\n",
    "loan=pd.read_csv(\"loan.csv\")"
   ]
  },
  {
   "cell_type": "code",
   "execution_count": 2,
   "id": "macro-essex",
   "metadata": {},
   "outputs": [
    {
     "data": {
      "text/html": [
       "<div>\n",
       "<style scoped>\n",
       "    .dataframe tbody tr th:only-of-type {\n",
       "        vertical-align: middle;\n",
       "    }\n",
       "\n",
       "    .dataframe tbody tr th {\n",
       "        vertical-align: top;\n",
       "    }\n",
       "\n",
       "    .dataframe thead th {\n",
       "        text-align: right;\n",
       "    }\n",
       "</style>\n",
       "<table border=\"1\" class=\"dataframe\">\n",
       "  <thead>\n",
       "    <tr style=\"text-align: right;\">\n",
       "      <th></th>\n",
       "      <th>loan_amnt</th>\n",
       "      <th>term</th>\n",
       "      <th>int_rate</th>\n",
       "      <th>emp_length</th>\n",
       "      <th>home_ownership</th>\n",
       "      <th>annual_inc</th>\n",
       "      <th>purpose</th>\n",
       "      <th>addr_state</th>\n",
       "      <th>dti</th>\n",
       "      <th>delinq_2yrs</th>\n",
       "      <th>revol_util</th>\n",
       "      <th>total_acc</th>\n",
       "      <th>bad_loan</th>\n",
       "      <th>longest_credit_length</th>\n",
       "      <th>verification_status</th>\n",
       "    </tr>\n",
       "  </thead>\n",
       "  <tbody>\n",
       "    <tr>\n",
       "      <th>0</th>\n",
       "      <td>5000</td>\n",
       "      <td>36 months</td>\n",
       "      <td>10.65</td>\n",
       "      <td>10.0</td>\n",
       "      <td>RENT</td>\n",
       "      <td>24000.0</td>\n",
       "      <td>credit_card</td>\n",
       "      <td>AZ</td>\n",
       "      <td>27.65</td>\n",
       "      <td>0.0</td>\n",
       "      <td>83.7</td>\n",
       "      <td>9.0</td>\n",
       "      <td>0.0</td>\n",
       "      <td>26.0</td>\n",
       "      <td>verified</td>\n",
       "    </tr>\n",
       "    <tr>\n",
       "      <th>1</th>\n",
       "      <td>5000</td>\n",
       "      <td>36 months</td>\n",
       "      <td>10.65</td>\n",
       "      <td>10.0</td>\n",
       "      <td>RENT</td>\n",
       "      <td>24000.0</td>\n",
       "      <td>credit_card</td>\n",
       "      <td>AZ</td>\n",
       "      <td>27.65</td>\n",
       "      <td>0.0</td>\n",
       "      <td>83.7</td>\n",
       "      <td>9.0</td>\n",
       "      <td>0.0</td>\n",
       "      <td>26.0</td>\n",
       "      <td>verified</td>\n",
       "    </tr>\n",
       "    <tr>\n",
       "      <th>2</th>\n",
       "      <td>5000</td>\n",
       "      <td>36 months</td>\n",
       "      <td>10.65</td>\n",
       "      <td>10.0</td>\n",
       "      <td>RENT</td>\n",
       "      <td>24000.0</td>\n",
       "      <td>credit_card</td>\n",
       "      <td>AZ</td>\n",
       "      <td>27.65</td>\n",
       "      <td>0.0</td>\n",
       "      <td>83.7</td>\n",
       "      <td>9.0</td>\n",
       "      <td>0.0</td>\n",
       "      <td>26.0</td>\n",
       "      <td>verified</td>\n",
       "    </tr>\n",
       "    <tr>\n",
       "      <th>3</th>\n",
       "      <td>5000</td>\n",
       "      <td>36 months</td>\n",
       "      <td>10.65</td>\n",
       "      <td>10.0</td>\n",
       "      <td>RENT</td>\n",
       "      <td>24000.0</td>\n",
       "      <td>credit_card</td>\n",
       "      <td>AZ</td>\n",
       "      <td>27.65</td>\n",
       "      <td>0.0</td>\n",
       "      <td>83.7</td>\n",
       "      <td>9.0</td>\n",
       "      <td>0.0</td>\n",
       "      <td>26.0</td>\n",
       "      <td>verified</td>\n",
       "    </tr>\n",
       "    <tr>\n",
       "      <th>4</th>\n",
       "      <td>5000</td>\n",
       "      <td>36 months</td>\n",
       "      <td>10.65</td>\n",
       "      <td>10.0</td>\n",
       "      <td>RENT</td>\n",
       "      <td>24000.0</td>\n",
       "      <td>credit_card</td>\n",
       "      <td>AZ</td>\n",
       "      <td>27.65</td>\n",
       "      <td>0.0</td>\n",
       "      <td>83.7</td>\n",
       "      <td>9.0</td>\n",
       "      <td>0.0</td>\n",
       "      <td>26.0</td>\n",
       "      <td>verified</td>\n",
       "    </tr>\n",
       "  </tbody>\n",
       "</table>\n",
       "</div>"
      ],
      "text/plain": [
       "   loan_amnt       term  int_rate  emp_length home_ownership  annual_inc  \\\n",
       "0       5000  36 months     10.65        10.0           RENT     24000.0   \n",
       "1       5000  36 months     10.65        10.0           RENT     24000.0   \n",
       "2       5000  36 months     10.65        10.0           RENT     24000.0   \n",
       "3       5000  36 months     10.65        10.0           RENT     24000.0   \n",
       "4       5000  36 months     10.65        10.0           RENT     24000.0   \n",
       "\n",
       "       purpose addr_state    dti  delinq_2yrs  revol_util  total_acc  \\\n",
       "0  credit_card         AZ  27.65          0.0        83.7        9.0   \n",
       "1  credit_card         AZ  27.65          0.0        83.7        9.0   \n",
       "2  credit_card         AZ  27.65          0.0        83.7        9.0   \n",
       "3  credit_card         AZ  27.65          0.0        83.7        9.0   \n",
       "4  credit_card         AZ  27.65          0.0        83.7        9.0   \n",
       "\n",
       "   bad_loan  longest_credit_length verification_status  \n",
       "0       0.0                   26.0            verified  \n",
       "1       0.0                   26.0            verified  \n",
       "2       0.0                   26.0            verified  \n",
       "3       0.0                   26.0            verified  \n",
       "4       0.0                   26.0            verified  "
      ]
     },
     "execution_count": 2,
     "metadata": {},
     "output_type": "execute_result"
    }
   ],
   "source": [
    "loan.head()"
   ]
  },
  {
   "cell_type": "code",
   "execution_count": 3,
   "id": "beneficial-workstation",
   "metadata": {},
   "outputs": [
    {
     "name": "stdout",
     "output_type": "stream",
     "text": [
      "<class 'pandas.core.frame.DataFrame'>\n",
      "RangeIndex: 68927 entries, 0 to 68926\n",
      "Data columns (total 15 columns):\n",
      " #   Column                 Non-Null Count  Dtype  \n",
      "---  ------                 --------------  -----  \n",
      " 0   loan_amnt              68927 non-null  int64  \n",
      " 1   term                   68927 non-null  object \n",
      " 2   int_rate               68927 non-null  float64\n",
      " 3   emp_length             66753 non-null  float64\n",
      " 4   home_ownership         68927 non-null  object \n",
      " 5   annual_inc             68923 non-null  float64\n",
      " 6   purpose                68927 non-null  object \n",
      " 7   addr_state             68927 non-null  object \n",
      " 8   dti                    68927 non-null  float64\n",
      " 9   delinq_2yrs            68898 non-null  float64\n",
      " 10  revol_util             68809 non-null  float64\n",
      " 11  total_acc              68897 non-null  float64\n",
      " 12  bad_loan               68926 non-null  float64\n",
      " 13  longest_credit_length  68897 non-null  float64\n",
      " 14  verification_status    68926 non-null  object \n",
      "dtypes: float64(9), int64(1), object(5)\n",
      "memory usage: 7.9+ MB\n"
     ]
    }
   ],
   "source": [
    "loan.info()"
   ]
  },
  {
   "cell_type": "code",
   "execution_count": 4,
   "id": "hollow-norwegian",
   "metadata": {},
   "outputs": [
    {
     "data": {
      "text/plain": [
       "0            verified\n",
       "1            verified\n",
       "2            verified\n",
       "3            verified\n",
       "4            verified\n",
       "             ...     \n",
       "68922    not verified\n",
       "68923        verified\n",
       "68924        verified\n",
       "68925        verified\n",
       "68926             NaN\n",
       "Name: verification_status, Length: 68927, dtype: object"
      ]
     },
     "execution_count": 4,
     "metadata": {},
     "output_type": "execute_result"
    }
   ],
   "source": [
    "loan['verification_status']"
   ]
  },
  {
   "cell_type": "code",
   "execution_count": 5,
   "id": "sharing-poland",
   "metadata": {},
   "outputs": [
    {
     "data": {
      "text/plain": [
       "verified        42492\n",
       "not verified    26434\n",
       "Name: verification_status, dtype: int64"
      ]
     },
     "execution_count": 5,
     "metadata": {},
     "output_type": "execute_result"
    }
   ],
   "source": [
    "loan['verification_status'].value_counts()"
   ]
  },
  {
   "cell_type": "code",
   "execution_count": 6,
   "id": "excellent-allergy",
   "metadata": {},
   "outputs": [
    {
     "data": {
      "text/html": [
       "<div>\n",
       "<style scoped>\n",
       "    .dataframe tbody tr th:only-of-type {\n",
       "        vertical-align: middle;\n",
       "    }\n",
       "\n",
       "    .dataframe tbody tr th {\n",
       "        vertical-align: top;\n",
       "    }\n",
       "\n",
       "    .dataframe thead th {\n",
       "        text-align: right;\n",
       "    }\n",
       "</style>\n",
       "<table border=\"1\" class=\"dataframe\">\n",
       "  <thead>\n",
       "    <tr style=\"text-align: right;\">\n",
       "      <th></th>\n",
       "      <th>loan_amnt</th>\n",
       "      <th>int_rate</th>\n",
       "      <th>emp_length</th>\n",
       "      <th>annual_inc</th>\n",
       "      <th>dti</th>\n",
       "      <th>delinq_2yrs</th>\n",
       "      <th>revol_util</th>\n",
       "      <th>total_acc</th>\n",
       "      <th>bad_loan</th>\n",
       "      <th>longest_credit_length</th>\n",
       "    </tr>\n",
       "  </thead>\n",
       "  <tbody>\n",
       "    <tr>\n",
       "      <th>count</th>\n",
       "      <td>68927.000000</td>\n",
       "      <td>68927.000000</td>\n",
       "      <td>66753.000000</td>\n",
       "      <td>6.892300e+04</td>\n",
       "      <td>68927.000000</td>\n",
       "      <td>68898.000000</td>\n",
       "      <td>68809.000000</td>\n",
       "      <td>68897.000000</td>\n",
       "      <td>68926.000000</td>\n",
       "      <td>68897.000000</td>\n",
       "    </tr>\n",
       "    <tr>\n",
       "      <th>mean</th>\n",
       "      <td>12117.900823</td>\n",
       "      <td>13.236560</td>\n",
       "      <td>5.405944</td>\n",
       "      <td>7.058124e+04</td>\n",
       "      <td>14.809158</td>\n",
       "      <td>0.201675</td>\n",
       "      <td>52.177174</td>\n",
       "      <td>23.504913</td>\n",
       "      <td>0.178481</td>\n",
       "      <td>14.331988</td>\n",
       "    </tr>\n",
       "    <tr>\n",
       "      <th>std</th>\n",
       "      <td>7741.976958</td>\n",
       "      <td>4.342197</td>\n",
       "      <td>3.629334</td>\n",
       "      <td>5.723944e+04</td>\n",
       "      <td>7.350938</td>\n",
       "      <td>0.626135</td>\n",
       "      <td>26.581206</td>\n",
       "      <td>11.695062</td>\n",
       "      <td>0.382920</td>\n",
       "      <td>6.968065</td>\n",
       "    </tr>\n",
       "    <tr>\n",
       "      <th>min</th>\n",
       "      <td>500.000000</td>\n",
       "      <td>5.420000</td>\n",
       "      <td>0.000000</td>\n",
       "      <td>1.896000e+03</td>\n",
       "      <td>0.000000</td>\n",
       "      <td>0.000000</td>\n",
       "      <td>0.000000</td>\n",
       "      <td>1.000000</td>\n",
       "      <td>0.000000</td>\n",
       "      <td>0.000000</td>\n",
       "    </tr>\n",
       "    <tr>\n",
       "      <th>25%</th>\n",
       "      <td>6000.000000</td>\n",
       "      <td>10.160000</td>\n",
       "      <td>2.000000</td>\n",
       "      <td>4.260000e+04</td>\n",
       "      <td>9.270000</td>\n",
       "      <td>0.000000</td>\n",
       "      <td>32.000000</td>\n",
       "      <td>15.000000</td>\n",
       "      <td>0.000000</td>\n",
       "      <td>10.000000</td>\n",
       "    </tr>\n",
       "    <tr>\n",
       "      <th>50%</th>\n",
       "      <td>10000.000000</td>\n",
       "      <td>12.990000</td>\n",
       "      <td>5.000000</td>\n",
       "      <td>6.000000e+04</td>\n",
       "      <td>14.630000</td>\n",
       "      <td>0.000000</td>\n",
       "      <td>53.800000</td>\n",
       "      <td>22.000000</td>\n",
       "      <td>0.000000</td>\n",
       "      <td>13.000000</td>\n",
       "    </tr>\n",
       "    <tr>\n",
       "      <th>75%</th>\n",
       "      <td>16000.000000</td>\n",
       "      <td>15.950000</td>\n",
       "      <td>10.000000</td>\n",
       "      <td>8.500000e+04</td>\n",
       "      <td>20.160000</td>\n",
       "      <td>0.000000</td>\n",
       "      <td>73.700000</td>\n",
       "      <td>30.000000</td>\n",
       "      <td>0.000000</td>\n",
       "      <td>18.000000</td>\n",
       "    </tr>\n",
       "    <tr>\n",
       "      <th>max</th>\n",
       "      <td>35000.000000</td>\n",
       "      <td>26.060000</td>\n",
       "      <td>10.000000</td>\n",
       "      <td>6.000000e+06</td>\n",
       "      <td>34.990000</td>\n",
       "      <td>18.000000</td>\n",
       "      <td>128.100000</td>\n",
       "      <td>90.000000</td>\n",
       "      <td>1.000000</td>\n",
       "      <td>65.000000</td>\n",
       "    </tr>\n",
       "  </tbody>\n",
       "</table>\n",
       "</div>"
      ],
      "text/plain": [
       "          loan_amnt      int_rate    emp_length    annual_inc           dti  \\\n",
       "count  68927.000000  68927.000000  66753.000000  6.892300e+04  68927.000000   \n",
       "mean   12117.900823     13.236560      5.405944  7.058124e+04     14.809158   \n",
       "std     7741.976958      4.342197      3.629334  5.723944e+04      7.350938   \n",
       "min      500.000000      5.420000      0.000000  1.896000e+03      0.000000   \n",
       "25%     6000.000000     10.160000      2.000000  4.260000e+04      9.270000   \n",
       "50%    10000.000000     12.990000      5.000000  6.000000e+04     14.630000   \n",
       "75%    16000.000000     15.950000     10.000000  8.500000e+04     20.160000   \n",
       "max    35000.000000     26.060000     10.000000  6.000000e+06     34.990000   \n",
       "\n",
       "        delinq_2yrs    revol_util     total_acc      bad_loan  \\\n",
       "count  68898.000000  68809.000000  68897.000000  68926.000000   \n",
       "mean       0.201675     52.177174     23.504913      0.178481   \n",
       "std        0.626135     26.581206     11.695062      0.382920   \n",
       "min        0.000000      0.000000      1.000000      0.000000   \n",
       "25%        0.000000     32.000000     15.000000      0.000000   \n",
       "50%        0.000000     53.800000     22.000000      0.000000   \n",
       "75%        0.000000     73.700000     30.000000      0.000000   \n",
       "max       18.000000    128.100000     90.000000      1.000000   \n",
       "\n",
       "       longest_credit_length  \n",
       "count           68897.000000  \n",
       "mean               14.331988  \n",
       "std                 6.968065  \n",
       "min                 0.000000  \n",
       "25%                10.000000  \n",
       "50%                13.000000  \n",
       "75%                18.000000  \n",
       "max                65.000000  "
      ]
     },
     "execution_count": 6,
     "metadata": {},
     "output_type": "execute_result"
    }
   ],
   "source": [
    "loan.describe()"
   ]
  },
  {
   "cell_type": "code",
   "execution_count": 7,
   "id": "martial-liability",
   "metadata": {},
   "outputs": [
    {
     "data": {
      "text/plain": [
       "loan_amnt                   0\n",
       "term                        0\n",
       "int_rate                    0\n",
       "emp_length               2174\n",
       "home_ownership              0\n",
       "annual_inc                  4\n",
       "purpose                     0\n",
       "addr_state                  0\n",
       "dti                         0\n",
       "delinq_2yrs                29\n",
       "revol_util                118\n",
       "total_acc                  30\n",
       "bad_loan                    1\n",
       "longest_credit_length      30\n",
       "verification_status         1\n",
       "dtype: int64"
      ]
     },
     "execution_count": 7,
     "metadata": {},
     "output_type": "execute_result"
    }
   ],
   "source": [
    "loan.isnull().sum()"
   ]
  },
  {
   "cell_type": "markdown",
   "id": "affiliated-recall",
   "metadata": {},
   "source": [
    "## Histogram plot"
   ]
  },
  {
   "cell_type": "code",
   "execution_count": 8,
   "id": "restricted-hardware",
   "metadata": {},
   "outputs": [
    {
     "data": {
      "text/plain": [
       "array([[<AxesSubplot:title={'center':'loan_amnt'}>,\n",
       "        <AxesSubplot:title={'center':'int_rate'}>,\n",
       "        <AxesSubplot:title={'center':'emp_length'}>],\n",
       "       [<AxesSubplot:title={'center':'annual_inc'}>,\n",
       "        <AxesSubplot:title={'center':'dti'}>,\n",
       "        <AxesSubplot:title={'center':'delinq_2yrs'}>],\n",
       "       [<AxesSubplot:title={'center':'revol_util'}>,\n",
       "        <AxesSubplot:title={'center':'total_acc'}>,\n",
       "        <AxesSubplot:title={'center':'bad_loan'}>],\n",
       "       [<AxesSubplot:title={'center':'longest_credit_length'}>,\n",
       "        <AxesSubplot:>, <AxesSubplot:>]], dtype=object)"
      ]
     },
     "execution_count": 8,
     "metadata": {},
     "output_type": "execute_result"
    },
    {
     "data": {
      "image/png": "[encoded data removed]",
      "text/plain": [
       "<Figure size 1080x720 with 12 Axes>"
      ]
     },
     "metadata": {
      "needs_background": "light"
     },
     "output_type": "display_data"
    }
   ],
   "source": [
    "%matplotlib inline\n",
    "import matplotlib as plt\n",
    "loan.hist(bins=50,figsize=(15,10))"
   ]
  },
  {
   "cell_type": "raw",
   "id": "bridal-intermediate",
   "metadata": {},
   "source": [
    "import numpy as np\n",
    "def split_train_test(data,test_ratio):\n",
    "    np.random.seed(42)\n",
    "    shuffled = np.random.permutation(len(data))\n",
    "    test_set_size = int(len(data)*test_ratio)\n",
    "    test_indices = shuffled[:test_set_size]\n",
    "    train_indices = shuffled[test_set_size:]\n",
    "    return data.iloc[train_indices],data.iloc[test_indices]"
   ]
  },
  {
   "cell_type": "raw",
   "id": "certified-wisconsin",
   "metadata": {},
   "source": [
    "train_set,test_set = split_train_test(loan,0.2)\n",
    "print(f\"rows in train_set:{len(train_set)}\\nrows in test_set:{len(test_set)}\")"
   ]
  },
  {
   "cell_type": "raw",
   "id": "diagnostic-occupation",
   "metadata": {},
   "source": [
    "train_set"
   ]
  },
  {
   "cell_type": "markdown",
   "id": "wanted-there",
   "metadata": {},
   "source": [
    "## Correlations"
   ]
  },
  {
   "cell_type": "code",
   "execution_count": 9,
   "id": "sexual-cattle",
   "metadata": {},
   "outputs": [
    {
     "data": {
      "text/plain": [
       "annual_inc               1.000000\n",
       "loan_amnt                0.316697\n",
       "total_acc                0.249702\n",
       "longest_credit_length    0.177648\n",
       "emp_length               0.101179\n",
       "delinq_2yrs              0.050477\n",
       "int_rate                 0.031758\n",
       "revol_util               0.024666\n",
       "bad_loan                -0.054741\n",
       "dti                     -0.144456\n",
       "Name: annual_inc, dtype: float64"
      ]
     },
     "execution_count": 9,
     "metadata": {},
     "output_type": "execute_result"
    }
   ],
   "source": [
    "corr_matrix = loan.corr()\n",
    "corr_matrix['annual_inc'].sort_values(ascending = False)\n"
   ]
  },
  {
   "cell_type": "code",
   "execution_count": 10,
   "id": "advanced-championship",
   "metadata": {},
   "outputs": [],
   "source": [
    "#loan.plot(kind=\"scatter\",x=\"loan_amnt\",y=\"annual_inc\",alpha=0.9)"
   ]
  },
  {
   "cell_type": "markdown",
   "id": "alert-vienna",
   "metadata": {},
   "source": [
    "## filling missing value on numerical data                                                                                                      "
   ]
  },
  {
   "cell_type": "code",
   "execution_count": 11,
   "id": "bearing-testimony",
   "metadata": {},
   "outputs": [],
   "source": [
    "#numerical value column=loan_amnt,int_rate,emp_length,\n",
    "#annual_inc,dti,delinq_2yrs,revol_util,total_acc,bad_loan,longes\n",
    "#string value column=term,home_ownership,purpose,addr_state,verification_status"
   ]
  },
  {
   "cell_type": "code",
   "execution_count": 12,
   "id": "prime-carol",
   "metadata": {},
   "outputs": [],
   "source": [
    "loan['loan_amnt']=loan['loan_amnt'].fillna(loan['loan_amnt'].mean())\n",
    "#loan['int_rate']\n",
    "loan['emp_length']=loan['emp_length'].fillna(loan['emp_length'].mean())\n",
    "loan['annual_inc']=loan['annual_inc'].fillna(loan['annual_inc'].mean())\n",
    "#loan['dti']\n",
    "loan['delinq_2yrs']=loan['delinq_2yrs'].fillna(loan['delinq_2yrs'].mean())\n",
    "loan['revol_util']=loan['revol_util'].fillna(loan['revol_util'].mean())\n",
    "loan['total_acc']=loan['total_acc'].fillna(loan['total_acc'].mean())\n",
    "loan['bad_loan']=loan['bad_loan'].fillna(loan['bad_loan'].mean())\n",
    "loan['longest_credit_length']=loan['longest_credit_length'].fillna(loan['longest_credit_length'].mean())"
   ]
  },
  {
   "cell_type": "code",
   "execution_count": 58,
   "id": "formal-burke",
   "metadata": {},
   "outputs": [
    {
     "name": "stdout",
     "output_type": "stream",
     "text": [
      "<class 'pandas.core.frame.DataFrame'>\n",
      "RangeIndex: 68927 entries, 0 to 68926\n",
      "Data columns (total 14 columns):\n",
      " #   Column               Non-Null Count  Dtype  \n",
      "---  ------               --------------  -----  \n",
      " 0   term                 68927 non-null  int32  \n",
      " 1   int_rate             68927 non-null  float64\n",
      " 2   home_ownership       68927 non-null  int32  \n",
      " 3   annual_inc           68927 non-null  float64\n",
      " 4   purpose              68927 non-null  int32  \n",
      " 5   addr_state           68927 non-null  int32  \n",
      " 6   dti                  68927 non-null  float64\n",
      " 7   delinq_2yrs          68927 non-null  float64\n",
      " 8   revol_util           68927 non-null  float64\n",
      " 9   bad_loan             68927 non-null  float64\n",
      " 10  verification_status  68927 non-null  int32  \n",
      " 11  emp_CrLength         68927 non-null  float64\n",
      " 12  loan_amntLog         68927 non-null  float64\n",
      " 13  total_accLog         68927 non-null  float64\n",
      "dtypes: float64(9), int32(5)\n",
      "memory usage: 6.0 MB\n"
     ]
    }
   ],
   "source": [
    "loan.info()"
   ]
  },
  {
   "cell_type": "markdown",
   "id": "chubby-incentive",
   "metadata": {},
   "source": [
    "## fill the missing value on categorical column"
   ]
  },
  {
   "cell_type": "code",
   "execution_count": 13,
   "id": "respected-japan",
   "metadata": {},
   "outputs": [],
   "source": [
    "loan['verification_status']=loan['verification_status'].fillna(loan['verification_status'].mode()[0])"
   ]
  },
  {
   "cell_type": "code",
   "execution_count": 14,
   "id": "thick-edition",
   "metadata": {},
   "outputs": [
    {
     "name": "stdout",
     "output_type": "stream",
     "text": [
      "<class 'pandas.core.frame.DataFrame'>\n",
      "RangeIndex: 68927 entries, 0 to 68926\n",
      "Data columns (total 15 columns):\n",
      " #   Column                 Non-Null Count  Dtype  \n",
      "---  ------                 --------------  -----  \n",
      " 0   loan_amnt              68927 non-null  int64  \n",
      " 1   term                   68927 non-null  object \n",
      " 2   int_rate               68927 non-null  float64\n",
      " 3   emp_length             68927 non-null  float64\n",
      " 4   home_ownership         68927 non-null  object \n",
      " 5   annual_inc             68927 non-null  float64\n",
      " 6   purpose                68927 non-null  object \n",
      " 7   addr_state             68927 non-null  object \n",
      " 8   dti                    68927 non-null  float64\n",
      " 9   delinq_2yrs            68927 non-null  float64\n",
      " 10  revol_util             68927 non-null  float64\n",
      " 11  total_acc              68927 non-null  float64\n",
      " 12  bad_loan               68927 non-null  float64\n",
      " 13  longest_credit_length  68927 non-null  float64\n",
      " 14  verification_status    68927 non-null  object \n",
      "dtypes: float64(9), int64(1), object(5)\n",
      "memory usage: 7.9+ MB\n"
     ]
    }
   ],
   "source": [
    "loan.info()"
   ]
  },
  {
   "cell_type": "code",
   "execution_count": 15,
   "id": "temporal-walker",
   "metadata": {},
   "outputs": [
    {
     "data": {
      "text/plain": [
       "loan_amnt                0\n",
       "term                     0\n",
       "int_rate                 0\n",
       "emp_length               0\n",
       "home_ownership           0\n",
       "annual_inc               0\n",
       "purpose                  0\n",
       "addr_state               0\n",
       "dti                      0\n",
       "delinq_2yrs              0\n",
       "revol_util               0\n",
       "total_acc                0\n",
       "bad_loan                 0\n",
       "longest_credit_length    0\n",
       "verification_status      0\n",
       "dtype: int64"
      ]
     },
     "execution_count": 15,
     "metadata": {},
     "output_type": "execute_result"
    }
   ],
   "source": [
    "loan.isnull().sum()"
   ]
  },
  {
   "cell_type": "markdown",
   "id": "thick-parade",
   "metadata": {},
   "source": [
    "## Data Analysis"
   ]
  },
  {
   "cell_type": "code",
   "execution_count": 16,
   "id": "gothic-barrier",
   "metadata": {},
   "outputs": [
    {
     "name": "stderr",
     "output_type": "stream",
     "text": [
      "c:\\users\\dell\\appdata\\local\\programs\\python\\python39\\lib\\site-packages\\seaborn\\_decorators.py:36: FutureWarning: Pass the following variable as a keyword arg: x. From version 0.12, the only valid positional argument will be `data`, and passing other arguments without an explicit keyword will result in an error or misinterpretation.\n",
      "  warnings.warn(\n"
     ]
    },
    {
     "data": {
      "text/plain": [
       "<AxesSubplot:xlabel='term', ylabel='count'>"
      ]
     },
     "execution_count": 16,
     "metadata": {},
     "output_type": "execute_result"
    },
    {
     "data": {
      "image/png": "[encoded data removed]",
      "text/plain": [
       "<Figure size 432x288 with 1 Axes>"
      ]
     },
     "metadata": {
      "needs_background": "light"
     },
     "output_type": "display_data"
    }
   ],
   "source": [
    "#categorical attributes visualization\n",
    "import seaborn as sns\n",
    "sns.countplot(loan['term'])"
   ]
  },
  {
   "cell_type": "code",
   "execution_count": 17,
   "id": "legendary-plumbing",
   "metadata": {},
   "outputs": [
    {
     "name": "stderr",
     "output_type": "stream",
     "text": [
      "c:\\users\\dell\\appdata\\local\\programs\\python\\python39\\lib\\site-packages\\seaborn\\_decorators.py:36: FutureWarning: Pass the following variable as a keyword arg: x. From version 0.12, the only valid positional argument will be `data`, and passing other arguments without an explicit keyword will result in an error or misinterpretation.\n",
      "  warnings.warn(\n"
     ]
    },
    {
     "data": {
      "text/plain": [
       "<AxesSubplot:xlabel='verification_status', ylabel='count'>"
      ]
     },
     "execution_count": 17,
     "metadata": {},
     "output_type": "execute_result"
    },
    {
     "data": {
      "image/png": "[encoded data removed]",
      "text/plain": [
       "<Figure size 432x288 with 1 Axes>"
      ]
     },
     "metadata": {
      "needs_background": "light"
     },
     "output_type": "display_data"
    }
   ],
   "source": [
    "sns.countplot(loan['verification_status'])"
   ]
  },
  {
   "cell_type": "code",
   "execution_count": 18,
   "id": "included-buying",
   "metadata": {},
   "outputs": [
    {
     "name": "stderr",
     "output_type": "stream",
     "text": [
      "c:\\users\\dell\\appdata\\local\\programs\\python\\python39\\lib\\site-packages\\seaborn\\_decorators.py:36: FutureWarning: Pass the following variable as a keyword arg: x. From version 0.12, the only valid positional argument will be `data`, and passing other arguments without an explicit keyword will result in an error or misinterpretation.\n",
      "  warnings.warn(\n"
     ]
    },
    {
     "data": {
      "text/plain": [
       "<AxesSubplot:xlabel='home_ownership', ylabel='count'>"
      ]
     },
     "execution_count": 18,
     "metadata": {},
     "output_type": "execute_result"
    },
    {
     "data": {
      "image/png": "[encoded data removed]",
      "text/plain": [
       "<Figure size 432x288 with 1 Axes>"
      ]
     },
     "metadata": {
      "needs_background": "light"
     },
     "output_type": "display_data"
    }
   ],
   "source": [
    "sns.countplot(loan['home_ownership'])"
   ]
  },
  {
   "cell_type": "code",
   "execution_count": 19,
   "id": "matched-genius",
   "metadata": {},
   "outputs": [
    {
     "name": "stderr",
     "output_type": "stream",
     "text": [
      "c:\\users\\dell\\appdata\\local\\programs\\python\\python39\\lib\\site-packages\\seaborn\\_decorators.py:36: FutureWarning: Pass the following variable as a keyword arg: x. From version 0.12, the only valid positional argument will be `data`, and passing other arguments without an explicit keyword will result in an error or misinterpretation.\n",
      "  warnings.warn(\n"
     ]
    },
    {
     "data": {
      "text/plain": [
       "<AxesSubplot:xlabel='addr_state', ylabel='count'>"
      ]
     },
     "execution_count": 19,
     "metadata": {},
     "output_type": "execute_result"
    },
    {
     "data": {
      "image/png": "[encoded data removed]",
      "text/plain": [
       "<Figure size 432x288 with 1 Axes>"
      ]
     },
     "metadata": {
      "needs_background": "light"
     },
     "output_type": "display_data"
    }
   ],
   "source": [
    "sns.countplot(loan['addr_state'])"
   ]
  },
  {
   "cell_type": "code",
   "execution_count": 20,
   "id": "noble-jurisdiction",
   "metadata": {},
   "outputs": [
    {
     "name": "stderr",
     "output_type": "stream",
     "text": [
      "c:\\users\\dell\\appdata\\local\\programs\\python\\python39\\lib\\site-packages\\seaborn\\distributions.py:2557: FutureWarning: `distplot` is a deprecated function and will be removed in a future version. Please adapt your code to use either `displot` (a figure-level function with similar flexibility) or `histplot` (an axes-level function for histograms).\n",
      "  warnings.warn(msg, FutureWarning)\n"
     ]
    },
    {
     "data": {
      "text/plain": [
       "<AxesSubplot:xlabel='emp_length', ylabel='Density'>"
      ]
     },
     "execution_count": 20,
     "metadata": {},
     "output_type": "execute_result"
    },
    {
     "data": {
      "image/png": "[encoded data removed]",
      "text/plain": [
       "<Figure size 432x288 with 1 Axes>"
      ]
     },
     "metadata": {
      "needs_background": "light"
     },
     "output_type": "display_data"
    }
   ],
   "source": [
    "# numerical attributes visualization\n",
    "sns.distplot(loan[\"emp_length\"])"
   ]
  },
  {
   "cell_type": "markdown",
   "id": "military-trustee",
   "metadata": {},
   "source": [
    "## Creation a new attributes"
   ]
  },
  {
   "cell_type": "code",
   "execution_count": 21,
   "id": "micro-renewal",
   "metadata": {},
   "outputs": [
    {
     "data": {
      "text/html": [
       "<div>\n",
       "<style scoped>\n",
       "    .dataframe tbody tr th:only-of-type {\n",
       "        vertical-align: middle;\n",
       "    }\n",
       "\n",
       "    .dataframe tbody tr th {\n",
       "        vertical-align: top;\n",
       "    }\n",
       "\n",
       "    .dataframe thead th {\n",
       "        text-align: right;\n",
       "    }\n",
       "</style>\n",
       "<table border=\"1\" class=\"dataframe\">\n",
       "  <thead>\n",
       "    <tr style=\"text-align: right;\">\n",
       "      <th></th>\n",
       "      <th>loan_amnt</th>\n",
       "      <th>term</th>\n",
       "      <th>int_rate</th>\n",
       "      <th>emp_length</th>\n",
       "      <th>home_ownership</th>\n",
       "      <th>annual_inc</th>\n",
       "      <th>purpose</th>\n",
       "      <th>addr_state</th>\n",
       "      <th>dti</th>\n",
       "      <th>delinq_2yrs</th>\n",
       "      <th>revol_util</th>\n",
       "      <th>total_acc</th>\n",
       "      <th>bad_loan</th>\n",
       "      <th>longest_credit_length</th>\n",
       "      <th>verification_status</th>\n",
       "      <th>emp_CrLength</th>\n",
       "    </tr>\n",
       "  </thead>\n",
       "  <tbody>\n",
       "    <tr>\n",
       "      <th>0</th>\n",
       "      <td>5000</td>\n",
       "      <td>36 months</td>\n",
       "      <td>10.65</td>\n",
       "      <td>10.0</td>\n",
       "      <td>RENT</td>\n",
       "      <td>24000.0</td>\n",
       "      <td>credit_card</td>\n",
       "      <td>AZ</td>\n",
       "      <td>27.65</td>\n",
       "      <td>0.0</td>\n",
       "      <td>83.7</td>\n",
       "      <td>9.0</td>\n",
       "      <td>0.0</td>\n",
       "      <td>26.0</td>\n",
       "      <td>verified</td>\n",
       "      <td>36.0</td>\n",
       "    </tr>\n",
       "    <tr>\n",
       "      <th>1</th>\n",
       "      <td>5000</td>\n",
       "      <td>36 months</td>\n",
       "      <td>10.65</td>\n",
       "      <td>10.0</td>\n",
       "      <td>RENT</td>\n",
       "      <td>24000.0</td>\n",
       "      <td>credit_card</td>\n",
       "      <td>AZ</td>\n",
       "      <td>27.65</td>\n",
       "      <td>0.0</td>\n",
       "      <td>83.7</td>\n",
       "      <td>9.0</td>\n",
       "      <td>0.0</td>\n",
       "      <td>26.0</td>\n",
       "      <td>verified</td>\n",
       "      <td>36.0</td>\n",
       "    </tr>\n",
       "    <tr>\n",
       "      <th>2</th>\n",
       "      <td>5000</td>\n",
       "      <td>36 months</td>\n",
       "      <td>10.65</td>\n",
       "      <td>10.0</td>\n",
       "      <td>RENT</td>\n",
       "      <td>24000.0</td>\n",
       "      <td>credit_card</td>\n",
       "      <td>AZ</td>\n",
       "      <td>27.65</td>\n",
       "      <td>0.0</td>\n",
       "      <td>83.7</td>\n",
       "      <td>9.0</td>\n",
       "      <td>0.0</td>\n",
       "      <td>26.0</td>\n",
       "      <td>verified</td>\n",
       "      <td>36.0</td>\n",
       "    </tr>\n",
       "    <tr>\n",
       "      <th>3</th>\n",
       "      <td>5000</td>\n",
       "      <td>36 months</td>\n",
       "      <td>10.65</td>\n",
       "      <td>10.0</td>\n",
       "      <td>RENT</td>\n",
       "      <td>24000.0</td>\n",
       "      <td>credit_card</td>\n",
       "      <td>AZ</td>\n",
       "      <td>27.65</td>\n",
       "      <td>0.0</td>\n",
       "      <td>83.7</td>\n",
       "      <td>9.0</td>\n",
       "      <td>0.0</td>\n",
       "      <td>26.0</td>\n",
       "      <td>verified</td>\n",
       "      <td>36.0</td>\n",
       "    </tr>\n",
       "    <tr>\n",
       "      <th>4</th>\n",
       "      <td>5000</td>\n",
       "      <td>36 months</td>\n",
       "      <td>10.65</td>\n",
       "      <td>10.0</td>\n",
       "      <td>RENT</td>\n",
       "      <td>24000.0</td>\n",
       "      <td>credit_card</td>\n",
       "      <td>AZ</td>\n",
       "      <td>27.65</td>\n",
       "      <td>0.0</td>\n",
       "      <td>83.7</td>\n",
       "      <td>9.0</td>\n",
       "      <td>0.0</td>\n",
       "      <td>26.0</td>\n",
       "      <td>verified</td>\n",
       "      <td>36.0</td>\n",
       "    </tr>\n",
       "  </tbody>\n",
       "</table>\n",
       "</div>"
      ],
      "text/plain": [
       "   loan_amnt       term  int_rate  emp_length home_ownership  annual_inc  \\\n",
       "0       5000  36 months     10.65        10.0           RENT     24000.0   \n",
       "1       5000  36 months     10.65        10.0           RENT     24000.0   \n",
       "2       5000  36 months     10.65        10.0           RENT     24000.0   \n",
       "3       5000  36 months     10.65        10.0           RENT     24000.0   \n",
       "4       5000  36 months     10.65        10.0           RENT     24000.0   \n",
       "\n",
       "       purpose addr_state    dti  delinq_2yrs  revol_util  total_acc  \\\n",
       "0  credit_card         AZ  27.65          0.0        83.7        9.0   \n",
       "1  credit_card         AZ  27.65          0.0        83.7        9.0   \n",
       "2  credit_card         AZ  27.65          0.0        83.7        9.0   \n",
       "3  credit_card         AZ  27.65          0.0        83.7        9.0   \n",
       "4  credit_card         AZ  27.65          0.0        83.7        9.0   \n",
       "\n",
       "   bad_loan  longest_credit_length verification_status  emp_CrLength  \n",
       "0       0.0                   26.0            verified          36.0  \n",
       "1       0.0                   26.0            verified          36.0  \n",
       "2       0.0                   26.0            verified          36.0  \n",
       "3       0.0                   26.0            verified          36.0  \n",
       "4       0.0                   26.0            verified          36.0  "
      ]
     },
     "execution_count": 21,
     "metadata": {},
     "output_type": "execute_result"
    }
   ],
   "source": [
    "# total length\n",
    "loan['emp_CrLength'] = loan['emp_length'] + loan['longest_credit_length']\n",
    "loan.head()"
   ]
  },
  {
   "cell_type": "code",
   "execution_count": null,
   "id": "celtic-trade",
   "metadata": {},
   "outputs": [],
   "source": []
  },
  {
   "cell_type": "markdown",
   "id": "rolled-special",
   "metadata": {},
   "source": [
    "## Log Applications"
   ]
  },
  {
   "cell_type": "code",
   "execution_count": 22,
   "id": "heard-amendment",
   "metadata": {},
   "outputs": [
    {
     "name": "stderr",
     "output_type": "stream",
     "text": [
      "c:\\users\\dell\\appdata\\local\\programs\\python\\python39\\lib\\site-packages\\seaborn\\distributions.py:2557: FutureWarning: `distplot` is a deprecated function and will be removed in a future version. Please adapt your code to use either `displot` (a figure-level function with similar flexibility) or `histplot` (an axes-level function for histograms).\n",
      "  warnings.warn(msg, FutureWarning)\n"
     ]
    },
    {
     "data": {
      "text/plain": [
       "<AxesSubplot:xlabel='loan_amntLog', ylabel='Density'>"
      ]
     },
     "execution_count": 22,
     "metadata": {},
     "output_type": "execute_result"
    },
    {
     "data": {
      "image/png": "[encoded data removed]",
      "text/plain": [
       "<Figure size 432x288 with 1 Axes>"
      ]
     },
     "metadata": {
      "needs_background": "light"
     },
     "output_type": "display_data"
    }
   ],
   "source": [
    "loan['loan_amntLog'] = np.log(loan['loan_amnt'])\n",
    "sns.distplot(loan[\"loan_amntLog\"])"
   ]
  },
  {
   "cell_type": "code",
   "execution_count": 23,
   "id": "promising-prospect",
   "metadata": {
    "scrolled": true
   },
   "outputs": [
    {
     "name": "stderr",
     "output_type": "stream",
     "text": [
      "c:\\users\\dell\\appdata\\local\\programs\\python\\python39\\lib\\site-packages\\seaborn\\distributions.py:2557: FutureWarning: `distplot` is a deprecated function and will be removed in a future version. Please adapt your code to use either `displot` (a figure-level function with similar flexibility) or `histplot` (an axes-level function for histograms).\n",
      "  warnings.warn(msg, FutureWarning)\n"
     ]
    },
    {
     "data": {
      "text/plain": [
       "<AxesSubplot:xlabel='total_accLog', ylabel='Density'>"
      ]
     },
     "execution_count": 23,
     "metadata": {},
     "output_type": "execute_result"
    },
    {
     "data": {
      "image/png": "[encoded data removed]",
      "text/plain": [
       "<Figure size 432x288 with 1 Axes>"
      ]
     },
     "metadata": {
      "needs_background": "light"
     },
     "output_type": "display_data"
    }
   ],
   "source": [
    "loan['total_accLog'] = np.log(loan['total_acc'])\n",
    "sns.distplot(loan[\"total_accLog\"])"
   ]
  },
  {
   "cell_type": "code",
   "execution_count": 24,
   "id": "strong-background",
   "metadata": {
    "scrolled": true
   },
   "outputs": [
    {
     "data": {
      "text/html": [
       "<div>\n",
       "<style scoped>\n",
       "    .dataframe tbody tr th:only-of-type {\n",
       "        vertical-align: middle;\n",
       "    }\n",
       "\n",
       "    .dataframe tbody tr th {\n",
       "        vertical-align: top;\n",
       "    }\n",
       "\n",
       "    .dataframe thead th {\n",
       "        text-align: right;\n",
       "    }\n",
       "</style>\n",
       "<table border=\"1\" class=\"dataframe\">\n",
       "  <thead>\n",
       "    <tr style=\"text-align: right;\">\n",
       "      <th></th>\n",
       "      <th>loan_amnt</th>\n",
       "      <th>term</th>\n",
       "      <th>int_rate</th>\n",
       "      <th>emp_length</th>\n",
       "      <th>home_ownership</th>\n",
       "      <th>annual_inc</th>\n",
       "      <th>purpose</th>\n",
       "      <th>addr_state</th>\n",
       "      <th>dti</th>\n",
       "      <th>delinq_2yrs</th>\n",
       "      <th>revol_util</th>\n",
       "      <th>total_acc</th>\n",
       "      <th>bad_loan</th>\n",
       "      <th>longest_credit_length</th>\n",
       "      <th>verification_status</th>\n",
       "      <th>emp_CrLength</th>\n",
       "      <th>loan_amntLog</th>\n",
       "      <th>total_accLog</th>\n",
       "    </tr>\n",
       "  </thead>\n",
       "  <tbody>\n",
       "    <tr>\n",
       "      <th>0</th>\n",
       "      <td>5000</td>\n",
       "      <td>36 months</td>\n",
       "      <td>10.65</td>\n",
       "      <td>10.0</td>\n",
       "      <td>RENT</td>\n",
       "      <td>24000.0</td>\n",
       "      <td>credit_card</td>\n",
       "      <td>AZ</td>\n",
       "      <td>27.65</td>\n",
       "      <td>0.0</td>\n",
       "      <td>83.7</td>\n",
       "      <td>9.0</td>\n",
       "      <td>0.0</td>\n",
       "      <td>26.0</td>\n",
       "      <td>verified</td>\n",
       "      <td>36.0</td>\n",
       "      <td>8.517193</td>\n",
       "      <td>2.197225</td>\n",
       "    </tr>\n",
       "    <tr>\n",
       "      <th>1</th>\n",
       "      <td>5000</td>\n",
       "      <td>36 months</td>\n",
       "      <td>10.65</td>\n",
       "      <td>10.0</td>\n",
       "      <td>RENT</td>\n",
       "      <td>24000.0</td>\n",
       "      <td>credit_card</td>\n",
       "      <td>AZ</td>\n",
       "      <td>27.65</td>\n",
       "      <td>0.0</td>\n",
       "      <td>83.7</td>\n",
       "      <td>9.0</td>\n",
       "      <td>0.0</td>\n",
       "      <td>26.0</td>\n",
       "      <td>verified</td>\n",
       "      <td>36.0</td>\n",
       "      <td>8.517193</td>\n",
       "      <td>2.197225</td>\n",
       "    </tr>\n",
       "    <tr>\n",
       "      <th>2</th>\n",
       "      <td>5000</td>\n",
       "      <td>36 months</td>\n",
       "      <td>10.65</td>\n",
       "      <td>10.0</td>\n",
       "      <td>RENT</td>\n",
       "      <td>24000.0</td>\n",
       "      <td>credit_card</td>\n",
       "      <td>AZ</td>\n",
       "      <td>27.65</td>\n",
       "      <td>0.0</td>\n",
       "      <td>83.7</td>\n",
       "      <td>9.0</td>\n",
       "      <td>0.0</td>\n",
       "      <td>26.0</td>\n",
       "      <td>verified</td>\n",
       "      <td>36.0</td>\n",
       "      <td>8.517193</td>\n",
       "      <td>2.197225</td>\n",
       "    </tr>\n",
       "    <tr>\n",
       "      <th>3</th>\n",
       "      <td>5000</td>\n",
       "      <td>36 months</td>\n",
       "      <td>10.65</td>\n",
       "      <td>10.0</td>\n",
       "      <td>RENT</td>\n",
       "      <td>24000.0</td>\n",
       "      <td>credit_card</td>\n",
       "      <td>AZ</td>\n",
       "      <td>27.65</td>\n",
       "      <td>0.0</td>\n",
       "      <td>83.7</td>\n",
       "      <td>9.0</td>\n",
       "      <td>0.0</td>\n",
       "      <td>26.0</td>\n",
       "      <td>verified</td>\n",
       "      <td>36.0</td>\n",
       "      <td>8.517193</td>\n",
       "      <td>2.197225</td>\n",
       "    </tr>\n",
       "    <tr>\n",
       "      <th>4</th>\n",
       "      <td>5000</td>\n",
       "      <td>36 months</td>\n",
       "      <td>10.65</td>\n",
       "      <td>10.0</td>\n",
       "      <td>RENT</td>\n",
       "      <td>24000.0</td>\n",
       "      <td>credit_card</td>\n",
       "      <td>AZ</td>\n",
       "      <td>27.65</td>\n",
       "      <td>0.0</td>\n",
       "      <td>83.7</td>\n",
       "      <td>9.0</td>\n",
       "      <td>0.0</td>\n",
       "      <td>26.0</td>\n",
       "      <td>verified</td>\n",
       "      <td>36.0</td>\n",
       "      <td>8.517193</td>\n",
       "      <td>2.197225</td>\n",
       "    </tr>\n",
       "  </tbody>\n",
       "</table>\n",
       "</div>"
      ],
      "text/plain": [
       "   loan_amnt       term  int_rate  emp_length home_ownership  annual_inc  \\\n",
       "0       5000  36 months     10.65        10.0           RENT     24000.0   \n",
       "1       5000  36 months     10.65        10.0           RENT     24000.0   \n",
       "2       5000  36 months     10.65        10.0           RENT     24000.0   \n",
       "3       5000  36 months     10.65        10.0           RENT     24000.0   \n",
       "4       5000  36 months     10.65        10.0           RENT     24000.0   \n",
       "\n",
       "       purpose addr_state    dti  delinq_2yrs  revol_util  total_acc  \\\n",
       "0  credit_card         AZ  27.65          0.0        83.7        9.0   \n",
       "1  credit_card         AZ  27.65          0.0        83.7        9.0   \n",
       "2  credit_card         AZ  27.65          0.0        83.7        9.0   \n",
       "3  credit_card         AZ  27.65          0.0        83.7        9.0   \n",
       "4  credit_card         AZ  27.65          0.0        83.7        9.0   \n",
       "\n",
       "   bad_loan  longest_credit_length verification_status  emp_CrLength  \\\n",
       "0       0.0                   26.0            verified          36.0   \n",
       "1       0.0                   26.0            verified          36.0   \n",
       "2       0.0                   26.0            verified          36.0   \n",
       "3       0.0                   26.0            verified          36.0   \n",
       "4       0.0                   26.0            verified          36.0   \n",
       "\n",
       "   loan_amntLog  total_accLog  \n",
       "0      8.517193      2.197225  \n",
       "1      8.517193      2.197225  \n",
       "2      8.517193      2.197225  \n",
       "3      8.517193      2.197225  \n",
       "4      8.517193      2.197225  "
      ]
     },
     "execution_count": 24,
     "metadata": {},
     "output_type": "execute_result"
    }
   ],
   "source": [
    "loan.head()"
   ]
  },
  {
   "cell_type": "markdown",
   "id": "specialized-princeton",
   "metadata": {},
   "source": [
    "## correlation"
   ]
  },
  {
   "cell_type": "code",
   "execution_count": 25,
   "id": "respective-south",
   "metadata": {
    "scrolled": true
   },
   "outputs": [
    {
     "data": {
      "text/plain": [
       "<AxesSubplot:>"
      ]
     },
     "execution_count": 25,
     "metadata": {},
     "output_type": "execute_result"
    },
    {
     "data": {
      "image/png": "[encoded data removed]",
      "text/plain": [
       "<Figure size 1080x360 with 2 Axes>"
      ]
     },
     "metadata": {
      "needs_background": "light"
     },
     "output_type": "display_data"
    }
   ],
   "source": [
    "from matplotlib import pyplot as plt\n",
    "corr = loan.corr()\n",
    "plt.figure(figsize=(15,5))\n",
    "sns.heatmap(corr, annot = True, cmap=\"BuPu\")"
   ]
  },
  {
   "cell_type": "code",
   "execution_count": 26,
   "id": "wound-minneapolis",
   "metadata": {},
   "outputs": [
    {
     "data": {
      "text/html": [
       "<div>\n",
       "<style scoped>\n",
       "    .dataframe tbody tr th:only-of-type {\n",
       "        vertical-align: middle;\n",
       "    }\n",
       "\n",
       "    .dataframe tbody tr th {\n",
       "        vertical-align: top;\n",
       "    }\n",
       "\n",
       "    .dataframe thead th {\n",
       "        text-align: right;\n",
       "    }\n",
       "</style>\n",
       "<table border=\"1\" class=\"dataframe\">\n",
       "  <thead>\n",
       "    <tr style=\"text-align: right;\">\n",
       "      <th></th>\n",
       "      <th>term</th>\n",
       "      <th>int_rate</th>\n",
       "      <th>home_ownership</th>\n",
       "      <th>annual_inc</th>\n",
       "      <th>purpose</th>\n",
       "      <th>addr_state</th>\n",
       "      <th>dti</th>\n",
       "      <th>delinq_2yrs</th>\n",
       "      <th>revol_util</th>\n",
       "      <th>bad_loan</th>\n",
       "      <th>verification_status</th>\n",
       "      <th>emp_CrLength</th>\n",
       "      <th>loan_amntLog</th>\n",
       "      <th>total_accLog</th>\n",
       "    </tr>\n",
       "  </thead>\n",
       "  <tbody>\n",
       "    <tr>\n",
       "      <th>0</th>\n",
       "      <td>36 months</td>\n",
       "      <td>10.65</td>\n",
       "      <td>RENT</td>\n",
       "      <td>24000.0</td>\n",
       "      <td>credit_card</td>\n",
       "      <td>AZ</td>\n",
       "      <td>27.65</td>\n",
       "      <td>0.0</td>\n",
       "      <td>83.7</td>\n",
       "      <td>0.0</td>\n",
       "      <td>verified</td>\n",
       "      <td>36.0</td>\n",
       "      <td>8.517193</td>\n",
       "      <td>2.197225</td>\n",
       "    </tr>\n",
       "    <tr>\n",
       "      <th>1</th>\n",
       "      <td>36 months</td>\n",
       "      <td>10.65</td>\n",
       "      <td>RENT</td>\n",
       "      <td>24000.0</td>\n",
       "      <td>credit_card</td>\n",
       "      <td>AZ</td>\n",
       "      <td>27.65</td>\n",
       "      <td>0.0</td>\n",
       "      <td>83.7</td>\n",
       "      <td>0.0</td>\n",
       "      <td>verified</td>\n",
       "      <td>36.0</td>\n",
       "      <td>8.517193</td>\n",
       "      <td>2.197225</td>\n",
       "    </tr>\n",
       "    <tr>\n",
       "      <th>2</th>\n",
       "      <td>36 months</td>\n",
       "      <td>10.65</td>\n",
       "      <td>RENT</td>\n",
       "      <td>24000.0</td>\n",
       "      <td>credit_card</td>\n",
       "      <td>AZ</td>\n",
       "      <td>27.65</td>\n",
       "      <td>0.0</td>\n",
       "      <td>83.7</td>\n",
       "      <td>0.0</td>\n",
       "      <td>verified</td>\n",
       "      <td>36.0</td>\n",
       "      <td>8.517193</td>\n",
       "      <td>2.197225</td>\n",
       "    </tr>\n",
       "    <tr>\n",
       "      <th>3</th>\n",
       "      <td>36 months</td>\n",
       "      <td>10.65</td>\n",
       "      <td>RENT</td>\n",
       "      <td>24000.0</td>\n",
       "      <td>credit_card</td>\n",
       "      <td>AZ</td>\n",
       "      <td>27.65</td>\n",
       "      <td>0.0</td>\n",
       "      <td>83.7</td>\n",
       "      <td>0.0</td>\n",
       "      <td>verified</td>\n",
       "      <td>36.0</td>\n",
       "      <td>8.517193</td>\n",
       "      <td>2.197225</td>\n",
       "    </tr>\n",
       "    <tr>\n",
       "      <th>4</th>\n",
       "      <td>36 months</td>\n",
       "      <td>10.65</td>\n",
       "      <td>RENT</td>\n",
       "      <td>24000.0</td>\n",
       "      <td>credit_card</td>\n",
       "      <td>AZ</td>\n",
       "      <td>27.65</td>\n",
       "      <td>0.0</td>\n",
       "      <td>83.7</td>\n",
       "      <td>0.0</td>\n",
       "      <td>verified</td>\n",
       "      <td>36.0</td>\n",
       "      <td>8.517193</td>\n",
       "      <td>2.197225</td>\n",
       "    </tr>\n",
       "  </tbody>\n",
       "</table>\n",
       "</div>"
      ],
      "text/plain": [
       "        term  int_rate home_ownership  annual_inc      purpose addr_state  \\\n",
       "0  36 months     10.65           RENT     24000.0  credit_card         AZ   \n",
       "1  36 months     10.65           RENT     24000.0  credit_card         AZ   \n",
       "2  36 months     10.65           RENT     24000.0  credit_card         AZ   \n",
       "3  36 months     10.65           RENT     24000.0  credit_card         AZ   \n",
       "4  36 months     10.65           RENT     24000.0  credit_card         AZ   \n",
       "\n",
       "     dti  delinq_2yrs  revol_util  bad_loan verification_status  emp_CrLength  \\\n",
       "0  27.65          0.0        83.7       0.0            verified          36.0   \n",
       "1  27.65          0.0        83.7       0.0            verified          36.0   \n",
       "2  27.65          0.0        83.7       0.0            verified          36.0   \n",
       "3  27.65          0.0        83.7       0.0            verified          36.0   \n",
       "4  27.65          0.0        83.7       0.0            verified          36.0   \n",
       "\n",
       "   loan_amntLog  total_accLog  \n",
       "0      8.517193      2.197225  \n",
       "1      8.517193      2.197225  \n",
       "2      8.517193      2.197225  \n",
       "3      8.517193      2.197225  \n",
       "4      8.517193      2.197225  "
      ]
     },
     "execution_count": 26,
     "metadata": {},
     "output_type": "execute_result"
    }
   ],
   "source": [
    "# drop unnecessary columns\n",
    "cols = ['emp_length','longest_credit_length','total_acc','loan_amnt']\n",
    "loan = loan.drop(columns=cols, axis=1)\n",
    "loan.head()"
   ]
  },
  {
   "cell_type": "markdown",
   "id": "detected-chicken",
   "metadata": {},
   "source": [
    "## label encoding"
   ]
  },
  {
   "cell_type": "code",
   "execution_count": 27,
   "id": "neither-opportunity",
   "metadata": {},
   "outputs": [],
   "source": [
    "from sklearn.preprocessing import LabelEncoder\n",
    "cols = [\"term\",\"home_ownership\",\"purpose\",\"addr_state\",\"verification_status\"]\n",
    "le = LabelEncoder()\n",
    "for col in cols:\n",
    "    loan[col] = le.fit_transform(loan[col])"
   ]
  },
  {
   "cell_type": "code",
   "execution_count": 59,
   "id": "front-routine",
   "metadata": {},
   "outputs": [
    {
     "data": {
      "text/plain": [
       "term                     int32\n",
       "int_rate               float64\n",
       "home_ownership           int32\n",
       "annual_inc             float64\n",
       "purpose                  int32\n",
       "addr_state               int32\n",
       "dti                    float64\n",
       "delinq_2yrs            float64\n",
       "revol_util             float64\n",
       "bad_loan               float64\n",
       "verification_status      int32\n",
       "emp_CrLength           float64\n",
       "loan_amntLog           float64\n",
       "total_accLog           float64\n",
       "dtype: object"
      ]
     },
     "execution_count": 59,
     "metadata": {},
     "output_type": "execute_result"
    }
   ],
   "source": [
    "loan.dtypes"
   ]
  },
  {
   "cell_type": "code",
   "execution_count": 61,
   "id": "republican-framework",
   "metadata": {},
   "outputs": [
    {
     "data": {
      "text/html": [
       "<div>\n",
       "<style scoped>\n",
       "    .dataframe tbody tr th:only-of-type {\n",
       "        vertical-align: middle;\n",
       "    }\n",
       "\n",
       "    .dataframe tbody tr th {\n",
       "        vertical-align: top;\n",
       "    }\n",
       "\n",
       "    .dataframe thead th {\n",
       "        text-align: right;\n",
       "    }\n",
       "</style>\n",
       "<table border=\"1\" class=\"dataframe\">\n",
       "  <thead>\n",
       "    <tr style=\"text-align: right;\">\n",
       "      <th></th>\n",
       "      <th>term</th>\n",
       "      <th>int_rate</th>\n",
       "      <th>home_ownership</th>\n",
       "      <th>annual_inc</th>\n",
       "      <th>purpose</th>\n",
       "      <th>addr_state</th>\n",
       "      <th>dti</th>\n",
       "      <th>delinq_2yrs</th>\n",
       "      <th>revol_util</th>\n",
       "      <th>bad_loan</th>\n",
       "      <th>verification_status</th>\n",
       "      <th>emp_CrLength</th>\n",
       "      <th>loan_amntLog</th>\n",
       "      <th>total_accLog</th>\n",
       "    </tr>\n",
       "  </thead>\n",
       "  <tbody>\n",
       "    <tr>\n",
       "      <th>0</th>\n",
       "      <td>0</td>\n",
       "      <td>10.65</td>\n",
       "      <td>4</td>\n",
       "      <td>24000.0</td>\n",
       "      <td>1</td>\n",
       "      <td>3</td>\n",
       "      <td>27.65</td>\n",
       "      <td>0.0</td>\n",
       "      <td>83.7</td>\n",
       "      <td>0.000000</td>\n",
       "      <td>1</td>\n",
       "      <td>36.000000</td>\n",
       "      <td>8.517193</td>\n",
       "      <td>2.197225</td>\n",
       "    </tr>\n",
       "    <tr>\n",
       "      <th>1</th>\n",
       "      <td>0</td>\n",
       "      <td>10.65</td>\n",
       "      <td>4</td>\n",
       "      <td>24000.0</td>\n",
       "      <td>1</td>\n",
       "      <td>3</td>\n",
       "      <td>27.65</td>\n",
       "      <td>0.0</td>\n",
       "      <td>83.7</td>\n",
       "      <td>0.000000</td>\n",
       "      <td>1</td>\n",
       "      <td>36.000000</td>\n",
       "      <td>8.517193</td>\n",
       "      <td>2.197225</td>\n",
       "    </tr>\n",
       "    <tr>\n",
       "      <th>2</th>\n",
       "      <td>0</td>\n",
       "      <td>10.65</td>\n",
       "      <td>4</td>\n",
       "      <td>24000.0</td>\n",
       "      <td>1</td>\n",
       "      <td>3</td>\n",
       "      <td>27.65</td>\n",
       "      <td>0.0</td>\n",
       "      <td>83.7</td>\n",
       "      <td>0.000000</td>\n",
       "      <td>1</td>\n",
       "      <td>36.000000</td>\n",
       "      <td>8.517193</td>\n",
       "      <td>2.197225</td>\n",
       "    </tr>\n",
       "    <tr>\n",
       "      <th>3</th>\n",
       "      <td>0</td>\n",
       "      <td>10.65</td>\n",
       "      <td>4</td>\n",
       "      <td>24000.0</td>\n",
       "      <td>1</td>\n",
       "      <td>3</td>\n",
       "      <td>27.65</td>\n",
       "      <td>0.0</td>\n",
       "      <td>83.7</td>\n",
       "      <td>0.000000</td>\n",
       "      <td>1</td>\n",
       "      <td>36.000000</td>\n",
       "      <td>8.517193</td>\n",
       "      <td>2.197225</td>\n",
       "    </tr>\n",
       "    <tr>\n",
       "      <th>4</th>\n",
       "      <td>0</td>\n",
       "      <td>10.65</td>\n",
       "      <td>4</td>\n",
       "      <td>24000.0</td>\n",
       "      <td>1</td>\n",
       "      <td>3</td>\n",
       "      <td>27.65</td>\n",
       "      <td>0.0</td>\n",
       "      <td>83.7</td>\n",
       "      <td>0.000000</td>\n",
       "      <td>1</td>\n",
       "      <td>36.000000</td>\n",
       "      <td>8.517193</td>\n",
       "      <td>2.197225</td>\n",
       "    </tr>\n",
       "    <tr>\n",
       "      <th>...</th>\n",
       "      <td>...</td>\n",
       "      <td>...</td>\n",
       "      <td>...</td>\n",
       "      <td>...</td>\n",
       "      <td>...</td>\n",
       "      <td>...</td>\n",
       "      <td>...</td>\n",
       "      <td>...</td>\n",
       "      <td>...</td>\n",
       "      <td>...</td>\n",
       "      <td>...</td>\n",
       "      <td>...</td>\n",
       "      <td>...</td>\n",
       "      <td>...</td>\n",
       "    </tr>\n",
       "    <tr>\n",
       "      <th>68922</th>\n",
       "      <td>0</td>\n",
       "      <td>10.16</td>\n",
       "      <td>0</td>\n",
       "      <td>60000.0</td>\n",
       "      <td>2</td>\n",
       "      <td>42</td>\n",
       "      <td>8.30</td>\n",
       "      <td>0.0</td>\n",
       "      <td>35.2</td>\n",
       "      <td>0.000000</td>\n",
       "      <td>0</td>\n",
       "      <td>23.000000</td>\n",
       "      <td>9.392662</td>\n",
       "      <td>3.178054</td>\n",
       "    </tr>\n",
       "    <tr>\n",
       "      <th>68923</th>\n",
       "      <td>0</td>\n",
       "      <td>13.11</td>\n",
       "      <td>0</td>\n",
       "      <td>16594.0</td>\n",
       "      <td>1</td>\n",
       "      <td>16</td>\n",
       "      <td>21.41</td>\n",
       "      <td>0.0</td>\n",
       "      <td>73.5</td>\n",
       "      <td>0.000000</td>\n",
       "      <td>1</td>\n",
       "      <td>17.405944</td>\n",
       "      <td>8.400659</td>\n",
       "      <td>3.178054</td>\n",
       "    </tr>\n",
       "    <tr>\n",
       "      <th>68924</th>\n",
       "      <td>0</td>\n",
       "      <td>6.62</td>\n",
       "      <td>0</td>\n",
       "      <td>68000.0</td>\n",
       "      <td>1</td>\n",
       "      <td>5</td>\n",
       "      <td>21.62</td>\n",
       "      <td>0.0</td>\n",
       "      <td>46.3</td>\n",
       "      <td>0.000000</td>\n",
       "      <td>1</td>\n",
       "      <td>21.000000</td>\n",
       "      <td>9.903488</td>\n",
       "      <td>4.025352</td>\n",
       "    </tr>\n",
       "    <tr>\n",
       "      <th>68925</th>\n",
       "      <td>1</td>\n",
       "      <td>22.95</td>\n",
       "      <td>4</td>\n",
       "      <td>66000.0</td>\n",
       "      <td>2</td>\n",
       "      <td>14</td>\n",
       "      <td>12.91</td>\n",
       "      <td>0.0</td>\n",
       "      <td>44.5</td>\n",
       "      <td>0.000000</td>\n",
       "      <td>1</td>\n",
       "      <td>23.000000</td>\n",
       "      <td>10.043249</td>\n",
       "      <td>3.784190</td>\n",
       "    </tr>\n",
       "    <tr>\n",
       "      <th>68926</th>\n",
       "      <td>1</td>\n",
       "      <td>21.49</td>\n",
       "      <td>0</td>\n",
       "      <td>177000.0</td>\n",
       "      <td>2</td>\n",
       "      <td>37</td>\n",
       "      <td>13.27</td>\n",
       "      <td>2.0</td>\n",
       "      <td>34.8</td>\n",
       "      <td>0.178481</td>\n",
       "      <td>1</td>\n",
       "      <td>20.331988</td>\n",
       "      <td>10.463103</td>\n",
       "      <td>3.157209</td>\n",
       "    </tr>\n",
       "  </tbody>\n",
       "</table>\n",
       "<p>68927 rows × 14 columns</p>\n",
       "</div>"
      ],
      "text/plain": [
       "       term  int_rate  home_ownership  annual_inc  purpose  addr_state    dti  \\\n",
       "0         0     10.65               4     24000.0        1           3  27.65   \n",
       "1         0     10.65               4     24000.0        1           3  27.65   \n",
       "2         0     10.65               4     24000.0        1           3  27.65   \n",
       "3         0     10.65               4     24000.0        1           3  27.65   \n",
       "4         0     10.65               4     24000.0        1           3  27.65   \n",
       "...     ...       ...             ...         ...      ...         ...    ...   \n",
       "68922     0     10.16               0     60000.0        2          42   8.30   \n",
       "68923     0     13.11               0     16594.0        1          16  21.41   \n",
       "68924     0      6.62               0     68000.0        1           5  21.62   \n",
       "68925     1     22.95               4     66000.0        2          14  12.91   \n",
       "68926     1     21.49               0    177000.0        2          37  13.27   \n",
       "\n",
       "       delinq_2yrs  revol_util  bad_loan  verification_status  emp_CrLength  \\\n",
       "0              0.0        83.7  0.000000                    1     36.000000   \n",
       "1              0.0        83.7  0.000000                    1     36.000000   \n",
       "2              0.0        83.7  0.000000                    1     36.000000   \n",
       "3              0.0        83.7  0.000000                    1     36.000000   \n",
       "4              0.0        83.7  0.000000                    1     36.000000   \n",
       "...            ...         ...       ...                  ...           ...   \n",
       "68922          0.0        35.2  0.000000                    0     23.000000   \n",
       "68923          0.0        73.5  0.000000                    1     17.405944   \n",
       "68924          0.0        46.3  0.000000                    1     21.000000   \n",
       "68925          0.0        44.5  0.000000                    1     23.000000   \n",
       "68926          2.0        34.8  0.178481                    1     20.331988   \n",
       "\n",
       "       loan_amntLog  total_accLog  \n",
       "0          8.517193      2.197225  \n",
       "1          8.517193      2.197225  \n",
       "2          8.517193      2.197225  \n",
       "3          8.517193      2.197225  \n",
       "4          8.517193      2.197225  \n",
       "...             ...           ...  \n",
       "68922      9.392662      3.178054  \n",
       "68923      8.400659      3.178054  \n",
       "68924      9.903488      4.025352  \n",
       "68925     10.043249      3.784190  \n",
       "68926     10.463103      3.157209  \n",
       "\n",
       "[68927 rows x 14 columns]"
      ]
     },
     "execution_count": 61,
     "metadata": {},
     "output_type": "execute_result"
    }
   ],
   "source": [
    "loan"
   ]
  },
  {
   "cell_type": "markdown",
   "id": "german-communist",
   "metadata": {},
   "source": [
    "## correlation"
   ]
  },
  {
   "cell_type": "code",
   "execution_count": 29,
   "id": "varying-creation",
   "metadata": {},
   "outputs": [
    {
     "data": {
      "text/plain": [
       "verification_status    1.000000\n",
       "loan_amntLog           0.319130\n",
       "term                   0.286664\n",
       "int_rate               0.207884\n",
       "total_accLog           0.143407\n",
       "emp_CrLength           0.142597\n",
       "annual_inc             0.128691\n",
       "dti                    0.118732\n",
       "revol_util             0.076719\n",
       "bad_loan               0.047920\n",
       "delinq_2yrs            0.024510\n",
       "addr_state            -0.013945\n",
       "purpose               -0.054509\n",
       "home_ownership        -0.106425\n",
       "Name: verification_status, dtype: float64"
      ]
     },
     "execution_count": 29,
     "metadata": {},
     "output_type": "execute_result"
    }
   ],
   "source": [
    "corr_matrix = loan.corr()\n",
    "corr_matrix['verification_status'].sort_values(ascending = False)"
   ]
  },
  {
   "cell_type": "markdown",
   "id": "indonesian-upper",
   "metadata": {},
   "source": [
    "## Train-Test-Split"
   ]
  },
  {
   "cell_type": "raw",
   "id": "disabled-greensboro",
   "metadata": {},
   "source": [
    "from sklearn.model_selection import train_test_split\n",
    "train_set,test_set = train_test_split(loan,test_size=0.2,random_state=42)\n",
    "print(f\"rows in train_set:{len(train_set)}\\nrows in test_set:{len(test_set)}\")"
   ]
  },
  {
   "cell_type": "raw",
   "id": "moral-solid",
   "metadata": {},
   "source": [
    "from sklearn.model_selection import StratifiedShuffleSplit\n",
    "split = StratifiedShuffleSplit(n_splits=1, test_size=0.2, random_state=42)\n",
    "for train_index, test_index in split.split(loan,loan['bad_loan']):\n",
    "    strat_train_set = loan.loc[train_index]\n",
    "    strat_test_set = loan.loc[test_index]"
   ]
  },
  {
   "cell_type": "raw",
   "id": "becoming-manhattan",
   "metadata": {},
   "source": [
    "loan=train_set.copy()"
   ]
  },
  {
   "cell_type": "code",
   "execution_count": 30,
   "id": "convertible-overview",
   "metadata": {},
   "outputs": [],
   "source": [
    "#specify input and output attributes\n",
    "X = loan.drop(columns=['verification_status'], axis=1)\n",
    "y = loan['verification_status']"
   ]
  },
  {
   "cell_type": "code",
   "execution_count": 31,
   "id": "criminal-portuguese",
   "metadata": {},
   "outputs": [],
   "source": [
    "from sklearn.model_selection import train_test_split\n",
    "x_train, x_test, y_train, y_test = train_test_split(X, y, test_size=0.25, random_state=42)"
   ]
  },
  {
   "cell_type": "code",
   "execution_count": 32,
   "id": "flush-reform",
   "metadata": {
    "scrolled": true
   },
   "outputs": [
    {
     "data": {
      "text/html": [
       "<div>\n",
       "<style scoped>\n",
       "    .dataframe tbody tr th:only-of-type {\n",
       "        vertical-align: middle;\n",
       "    }\n",
       "\n",
       "    .dataframe tbody tr th {\n",
       "        vertical-align: top;\n",
       "    }\n",
       "\n",
       "    .dataframe thead th {\n",
       "        text-align: right;\n",
       "    }\n",
       "</style>\n",
       "<table border=\"1\" class=\"dataframe\">\n",
       "  <thead>\n",
       "    <tr style=\"text-align: right;\">\n",
       "      <th></th>\n",
       "      <th>term</th>\n",
       "      <th>int_rate</th>\n",
       "      <th>home_ownership</th>\n",
       "      <th>annual_inc</th>\n",
       "      <th>purpose</th>\n",
       "      <th>addr_state</th>\n",
       "      <th>dti</th>\n",
       "      <th>delinq_2yrs</th>\n",
       "      <th>revol_util</th>\n",
       "      <th>bad_loan</th>\n",
       "      <th>emp_CrLength</th>\n",
       "      <th>loan_amntLog</th>\n",
       "      <th>total_accLog</th>\n",
       "    </tr>\n",
       "  </thead>\n",
       "  <tbody>\n",
       "    <tr>\n",
       "      <th>26533</th>\n",
       "      <td>0</td>\n",
       "      <td>7.88</td>\n",
       "      <td>0</td>\n",
       "      <td>122000.0</td>\n",
       "      <td>1</td>\n",
       "      <td>14</td>\n",
       "      <td>7.55</td>\n",
       "      <td>0.0</td>\n",
       "      <td>25.9</td>\n",
       "      <td>0.0</td>\n",
       "      <td>12.0</td>\n",
       "      <td>8.987197</td>\n",
       "      <td>3.218876</td>\n",
       "    </tr>\n",
       "    <tr>\n",
       "      <th>32570</th>\n",
       "      <td>0</td>\n",
       "      <td>13.16</td>\n",
       "      <td>3</td>\n",
       "      <td>49140.0</td>\n",
       "      <td>4</td>\n",
       "      <td>46</td>\n",
       "      <td>0.56</td>\n",
       "      <td>0.0</td>\n",
       "      <td>53.9</td>\n",
       "      <td>0.0</td>\n",
       "      <td>3.0</td>\n",
       "      <td>8.006368</td>\n",
       "      <td>1.386294</td>\n",
       "    </tr>\n",
       "    <tr>\n",
       "      <th>36130</th>\n",
       "      <td>0</td>\n",
       "      <td>10.28</td>\n",
       "      <td>4</td>\n",
       "      <td>35000.0</td>\n",
       "      <td>2</td>\n",
       "      <td>44</td>\n",
       "      <td>7.51</td>\n",
       "      <td>0.0</td>\n",
       "      <td>68.7</td>\n",
       "      <td>0.0</td>\n",
       "      <td>8.0</td>\n",
       "      <td>8.476371</td>\n",
       "      <td>2.484907</td>\n",
       "    </tr>\n",
       "    <tr>\n",
       "      <th>1366</th>\n",
       "      <td>1</td>\n",
       "      <td>11.71</td>\n",
       "      <td>0</td>\n",
       "      <td>75000.0</td>\n",
       "      <td>2</td>\n",
       "      <td>3</td>\n",
       "      <td>20.02</td>\n",
       "      <td>0.0</td>\n",
       "      <td>40.4</td>\n",
       "      <td>0.0</td>\n",
       "      <td>31.0</td>\n",
       "      <td>10.463103</td>\n",
       "      <td>3.496508</td>\n",
       "    </tr>\n",
       "    <tr>\n",
       "      <th>35437</th>\n",
       "      <td>0</td>\n",
       "      <td>14.18</td>\n",
       "      <td>4</td>\n",
       "      <td>66000.0</td>\n",
       "      <td>2</td>\n",
       "      <td>4</td>\n",
       "      <td>21.49</td>\n",
       "      <td>0.0</td>\n",
       "      <td>77.1</td>\n",
       "      <td>0.0</td>\n",
       "      <td>16.0</td>\n",
       "      <td>9.615805</td>\n",
       "      <td>3.637586</td>\n",
       "    </tr>\n",
       "    <tr>\n",
       "      <th>...</th>\n",
       "      <td>...</td>\n",
       "      <td>...</td>\n",
       "      <td>...</td>\n",
       "      <td>...</td>\n",
       "      <td>...</td>\n",
       "      <td>...</td>\n",
       "      <td>...</td>\n",
       "      <td>...</td>\n",
       "      <td>...</td>\n",
       "      <td>...</td>\n",
       "      <td>...</td>\n",
       "      <td>...</td>\n",
       "      <td>...</td>\n",
       "    </tr>\n",
       "    <tr>\n",
       "      <th>37194</th>\n",
       "      <td>0</td>\n",
       "      <td>14.22</td>\n",
       "      <td>0</td>\n",
       "      <td>105000.0</td>\n",
       "      <td>1</td>\n",
       "      <td>44</td>\n",
       "      <td>0.70</td>\n",
       "      <td>1.0</td>\n",
       "      <td>9.0</td>\n",
       "      <td>0.0</td>\n",
       "      <td>32.0</td>\n",
       "      <td>8.871365</td>\n",
       "      <td>3.178054</td>\n",
       "    </tr>\n",
       "    <tr>\n",
       "      <th>6265</th>\n",
       "      <td>0</td>\n",
       "      <td>6.03</td>\n",
       "      <td>0</td>\n",
       "      <td>51000.0</td>\n",
       "      <td>2</td>\n",
       "      <td>1</td>\n",
       "      <td>21.86</td>\n",
       "      <td>0.0</td>\n",
       "      <td>73.0</td>\n",
       "      <td>0.0</td>\n",
       "      <td>22.0</td>\n",
       "      <td>9.210340</td>\n",
       "      <td>3.367296</td>\n",
       "    </tr>\n",
       "    <tr>\n",
       "      <th>54886</th>\n",
       "      <td>0</td>\n",
       "      <td>18.85</td>\n",
       "      <td>4</td>\n",
       "      <td>42000.0</td>\n",
       "      <td>2</td>\n",
       "      <td>4</td>\n",
       "      <td>19.26</td>\n",
       "      <td>1.0</td>\n",
       "      <td>87.5</td>\n",
       "      <td>1.0</td>\n",
       "      <td>19.0</td>\n",
       "      <td>8.507143</td>\n",
       "      <td>2.708050</td>\n",
       "    </tr>\n",
       "    <tr>\n",
       "      <th>860</th>\n",
       "      <td>0</td>\n",
       "      <td>11.71</td>\n",
       "      <td>4</td>\n",
       "      <td>67000.0</td>\n",
       "      <td>1</td>\n",
       "      <td>4</td>\n",
       "      <td>16.55</td>\n",
       "      <td>0.0</td>\n",
       "      <td>84.0</td>\n",
       "      <td>0.0</td>\n",
       "      <td>18.0</td>\n",
       "      <td>9.903488</td>\n",
       "      <td>2.890372</td>\n",
       "    </tr>\n",
       "    <tr>\n",
       "      <th>15795</th>\n",
       "      <td>0</td>\n",
       "      <td>7.66</td>\n",
       "      <td>4</td>\n",
       "      <td>70000.0</td>\n",
       "      <td>8</td>\n",
       "      <td>20</td>\n",
       "      <td>10.17</td>\n",
       "      <td>0.0</td>\n",
       "      <td>80.2</td>\n",
       "      <td>0.0</td>\n",
       "      <td>18.0</td>\n",
       "      <td>7.600902</td>\n",
       "      <td>3.295837</td>\n",
       "    </tr>\n",
       "  </tbody>\n",
       "</table>\n",
       "<p>51695 rows × 13 columns</p>\n",
       "</div>"
      ],
      "text/plain": [
       "       term  int_rate  home_ownership  annual_inc  purpose  addr_state    dti  \\\n",
       "26533     0      7.88               0    122000.0        1          14   7.55   \n",
       "32570     0     13.16               3     49140.0        4          46   0.56   \n",
       "36130     0     10.28               4     35000.0        2          44   7.51   \n",
       "1366      1     11.71               0     75000.0        2           3  20.02   \n",
       "35437     0     14.18               4     66000.0        2           4  21.49   \n",
       "...     ...       ...             ...         ...      ...         ...    ...   \n",
       "37194     0     14.22               0    105000.0        1          44   0.70   \n",
       "6265      0      6.03               0     51000.0        2           1  21.86   \n",
       "54886     0     18.85               4     42000.0        2           4  19.26   \n",
       "860       0     11.71               4     67000.0        1           4  16.55   \n",
       "15795     0      7.66               4     70000.0        8          20  10.17   \n",
       "\n",
       "       delinq_2yrs  revol_util  bad_loan  emp_CrLength  loan_amntLog  \\\n",
       "26533          0.0        25.9       0.0          12.0      8.987197   \n",
       "32570          0.0        53.9       0.0           3.0      8.006368   \n",
       "36130          0.0        68.7       0.0           8.0      8.476371   \n",
       "1366           0.0        40.4       0.0          31.0     10.463103   \n",
       "35437          0.0        77.1       0.0          16.0      9.615805   \n",
       "...            ...         ...       ...           ...           ...   \n",
       "37194          1.0         9.0       0.0          32.0      8.871365   \n",
       "6265           0.0        73.0       0.0          22.0      9.210340   \n",
       "54886          1.0        87.5       1.0          19.0      8.507143   \n",
       "860            0.0        84.0       0.0          18.0      9.903488   \n",
       "15795          0.0        80.2       0.0          18.0      7.600902   \n",
       "\n",
       "       total_accLog  \n",
       "26533      3.218876  \n",
       "32570      1.386294  \n",
       "36130      2.484907  \n",
       "1366       3.496508  \n",
       "35437      3.637586  \n",
       "...             ...  \n",
       "37194      3.178054  \n",
       "6265       3.367296  \n",
       "54886      2.708050  \n",
       "860        2.890372  \n",
       "15795      3.295837  \n",
       "\n",
       "[51695 rows x 13 columns]"
      ]
     },
     "execution_count": 32,
     "metadata": {},
     "output_type": "execute_result"
    }
   ],
   "source": [
    "x_train"
   ]
  },
  {
   "cell_type": "code",
   "execution_count": 33,
   "id": "dynamic-elizabeth",
   "metadata": {
    "scrolled": true
   },
   "outputs": [
    {
     "data": {
      "text/html": [
       "<div>\n",
       "<style scoped>\n",
       "    .dataframe tbody tr th:only-of-type {\n",
       "        vertical-align: middle;\n",
       "    }\n",
       "\n",
       "    .dataframe tbody tr th {\n",
       "        vertical-align: top;\n",
       "    }\n",
       "\n",
       "    .dataframe thead th {\n",
       "        text-align: right;\n",
       "    }\n",
       "</style>\n",
       "<table border=\"1\" class=\"dataframe\">\n",
       "  <thead>\n",
       "    <tr style=\"text-align: right;\">\n",
       "      <th></th>\n",
       "      <th>term</th>\n",
       "      <th>int_rate</th>\n",
       "      <th>home_ownership</th>\n",
       "      <th>annual_inc</th>\n",
       "      <th>purpose</th>\n",
       "      <th>addr_state</th>\n",
       "      <th>dti</th>\n",
       "      <th>delinq_2yrs</th>\n",
       "      <th>revol_util</th>\n",
       "      <th>bad_loan</th>\n",
       "      <th>emp_CrLength</th>\n",
       "      <th>loan_amntLog</th>\n",
       "      <th>total_accLog</th>\n",
       "    </tr>\n",
       "  </thead>\n",
       "  <tbody>\n",
       "    <tr>\n",
       "      <th>35243</th>\n",
       "      <td>0</td>\n",
       "      <td>8.00</td>\n",
       "      <td>4</td>\n",
       "      <td>44500.0</td>\n",
       "      <td>0</td>\n",
       "      <td>44</td>\n",
       "      <td>7.77</td>\n",
       "      <td>0.0</td>\n",
       "      <td>22.7</td>\n",
       "      <td>0.0</td>\n",
       "      <td>13.0</td>\n",
       "      <td>8.853665</td>\n",
       "      <td>3.044522</td>\n",
       "    </tr>\n",
       "    <tr>\n",
       "      <th>56876</th>\n",
       "      <td>0</td>\n",
       "      <td>13.05</td>\n",
       "      <td>0</td>\n",
       "      <td>98500.0</td>\n",
       "      <td>1</td>\n",
       "      <td>14</td>\n",
       "      <td>7.01</td>\n",
       "      <td>0.0</td>\n",
       "      <td>68.7</td>\n",
       "      <td>0.0</td>\n",
       "      <td>28.0</td>\n",
       "      <td>9.615805</td>\n",
       "      <td>3.044522</td>\n",
       "    </tr>\n",
       "    <tr>\n",
       "      <th>439</th>\n",
       "      <td>0</td>\n",
       "      <td>8.90</td>\n",
       "      <td>0</td>\n",
       "      <td>120000.0</td>\n",
       "      <td>6</td>\n",
       "      <td>33</td>\n",
       "      <td>2.21</td>\n",
       "      <td>0.0</td>\n",
       "      <td>18.8</td>\n",
       "      <td>0.0</td>\n",
       "      <td>8.0</td>\n",
       "      <td>9.550378</td>\n",
       "      <td>2.564949</td>\n",
       "    </tr>\n",
       "    <tr>\n",
       "      <th>17539</th>\n",
       "      <td>1</td>\n",
       "      <td>10.74</td>\n",
       "      <td>4</td>\n",
       "      <td>48000.0</td>\n",
       "      <td>0</td>\n",
       "      <td>4</td>\n",
       "      <td>27.95</td>\n",
       "      <td>0.0</td>\n",
       "      <td>23.7</td>\n",
       "      <td>0.0</td>\n",
       "      <td>11.0</td>\n",
       "      <td>8.517193</td>\n",
       "      <td>3.218876</td>\n",
       "    </tr>\n",
       "    <tr>\n",
       "      <th>15191</th>\n",
       "      <td>0</td>\n",
       "      <td>10.00</td>\n",
       "      <td>0</td>\n",
       "      <td>50000.0</td>\n",
       "      <td>4</td>\n",
       "      <td>9</td>\n",
       "      <td>1.49</td>\n",
       "      <td>1.0</td>\n",
       "      <td>11.1</td>\n",
       "      <td>0.0</td>\n",
       "      <td>21.0</td>\n",
       "      <td>8.517193</td>\n",
       "      <td>3.044522</td>\n",
       "    </tr>\n",
       "    <tr>\n",
       "      <th>...</th>\n",
       "      <td>...</td>\n",
       "      <td>...</td>\n",
       "      <td>...</td>\n",
       "      <td>...</td>\n",
       "      <td>...</td>\n",
       "      <td>...</td>\n",
       "      <td>...</td>\n",
       "      <td>...</td>\n",
       "      <td>...</td>\n",
       "      <td>...</td>\n",
       "      <td>...</td>\n",
       "      <td>...</td>\n",
       "      <td>...</td>\n",
       "    </tr>\n",
       "    <tr>\n",
       "      <th>11100</th>\n",
       "      <td>0</td>\n",
       "      <td>21.74</td>\n",
       "      <td>4</td>\n",
       "      <td>23000.0</td>\n",
       "      <td>2</td>\n",
       "      <td>40</td>\n",
       "      <td>4.70</td>\n",
       "      <td>0.0</td>\n",
       "      <td>99.4</td>\n",
       "      <td>1.0</td>\n",
       "      <td>4.0</td>\n",
       "      <td>7.937375</td>\n",
       "      <td>2.079442</td>\n",
       "    </tr>\n",
       "    <tr>\n",
       "      <th>43584</th>\n",
       "      <td>0</td>\n",
       "      <td>21.70</td>\n",
       "      <td>4</td>\n",
       "      <td>42000.0</td>\n",
       "      <td>2</td>\n",
       "      <td>14</td>\n",
       "      <td>22.49</td>\n",
       "      <td>0.0</td>\n",
       "      <td>53.3</td>\n",
       "      <td>1.0</td>\n",
       "      <td>19.0</td>\n",
       "      <td>9.740969</td>\n",
       "      <td>2.397895</td>\n",
       "    </tr>\n",
       "    <tr>\n",
       "      <th>927</th>\n",
       "      <td>0</td>\n",
       "      <td>10.65</td>\n",
       "      <td>4</td>\n",
       "      <td>46330.0</td>\n",
       "      <td>2</td>\n",
       "      <td>46</td>\n",
       "      <td>6.53</td>\n",
       "      <td>0.0</td>\n",
       "      <td>53.5</td>\n",
       "      <td>0.0</td>\n",
       "      <td>10.0</td>\n",
       "      <td>8.987197</td>\n",
       "      <td>2.890372</td>\n",
       "    </tr>\n",
       "    <tr>\n",
       "      <th>42755</th>\n",
       "      <td>1</td>\n",
       "      <td>13.67</td>\n",
       "      <td>0</td>\n",
       "      <td>60000.0</td>\n",
       "      <td>1</td>\n",
       "      <td>22</td>\n",
       "      <td>11.46</td>\n",
       "      <td>0.0</td>\n",
       "      <td>28.9</td>\n",
       "      <td>0.0</td>\n",
       "      <td>15.0</td>\n",
       "      <td>9.615805</td>\n",
       "      <td>3.401197</td>\n",
       "    </tr>\n",
       "    <tr>\n",
       "      <th>54887</th>\n",
       "      <td>0</td>\n",
       "      <td>15.88</td>\n",
       "      <td>4</td>\n",
       "      <td>100000.0</td>\n",
       "      <td>11</td>\n",
       "      <td>42</td>\n",
       "      <td>8.94</td>\n",
       "      <td>0.0</td>\n",
       "      <td>19.0</td>\n",
       "      <td>0.0</td>\n",
       "      <td>7.0</td>\n",
       "      <td>9.202812</td>\n",
       "      <td>2.639057</td>\n",
       "    </tr>\n",
       "  </tbody>\n",
       "</table>\n",
       "<p>10975 rows × 13 columns</p>\n",
       "</div>"
      ],
      "text/plain": [
       "       term  int_rate  home_ownership  annual_inc  purpose  addr_state    dti  \\\n",
       "35243     0      8.00               4     44500.0        0          44   7.77   \n",
       "56876     0     13.05               0     98500.0        1          14   7.01   \n",
       "439       0      8.90               0    120000.0        6          33   2.21   \n",
       "17539     1     10.74               4     48000.0        0           4  27.95   \n",
       "15191     0     10.00               0     50000.0        4           9   1.49   \n",
       "...     ...       ...             ...         ...      ...         ...    ...   \n",
       "11100     0     21.74               4     23000.0        2          40   4.70   \n",
       "43584     0     21.70               4     42000.0        2          14  22.49   \n",
       "927       0     10.65               4     46330.0        2          46   6.53   \n",
       "42755     1     13.67               0     60000.0        1          22  11.46   \n",
       "54887     0     15.88               4    100000.0       11          42   8.94   \n",
       "\n",
       "       delinq_2yrs  revol_util  bad_loan  emp_CrLength  loan_amntLog  \\\n",
       "35243          0.0        22.7       0.0          13.0      8.853665   \n",
       "56876          0.0        68.7       0.0          28.0      9.615805   \n",
       "439            0.0        18.8       0.0           8.0      9.550378   \n",
       "17539          0.0        23.7       0.0          11.0      8.517193   \n",
       "15191          1.0        11.1       0.0          21.0      8.517193   \n",
       "...            ...         ...       ...           ...           ...   \n",
       "11100          0.0        99.4       1.0           4.0      7.937375   \n",
       "43584          0.0        53.3       1.0          19.0      9.740969   \n",
       "927            0.0        53.5       0.0          10.0      8.987197   \n",
       "42755          0.0        28.9       0.0          15.0      9.615805   \n",
       "54887          0.0        19.0       0.0           7.0      9.202812   \n",
       "\n",
       "       total_accLog  \n",
       "35243      3.044522  \n",
       "56876      3.044522  \n",
       "439        2.564949  \n",
       "17539      3.218876  \n",
       "15191      3.044522  \n",
       "...             ...  \n",
       "11100      2.079442  \n",
       "43584      2.397895  \n",
       "927        2.890372  \n",
       "42755      3.401197  \n",
       "54887      2.639057  \n",
       "\n",
       "[10975 rows x 13 columns]"
      ]
     },
     "execution_count": 33,
     "metadata": {},
     "output_type": "execute_result"
    }
   ],
   "source": [
    "x_test[6257:]"
   ]
  },
  {
   "cell_type": "code",
   "execution_count": 34,
   "id": "affecting-gospel",
   "metadata": {},
   "outputs": [
    {
     "data": {
      "text/plain": [
       "26533    0\n",
       "32570    0\n",
       "36130    0\n",
       "1366     1\n",
       "35437    0\n",
       "        ..\n",
       "37194    1\n",
       "6265     0\n",
       "54886    0\n",
       "860      1\n",
       "15795    0\n",
       "Name: verification_status, Length: 51695, dtype: int32"
      ]
     },
     "execution_count": 34,
     "metadata": {},
     "output_type": "execute_result"
    }
   ],
   "source": [
    "y_train"
   ]
  },
  {
   "cell_type": "code",
   "execution_count": 35,
   "id": "departmental-bones",
   "metadata": {},
   "outputs": [
    {
     "data": {
      "text/plain": [
       "35243    0\n",
       "56876    0\n",
       "439      1\n",
       "17539    1\n",
       "15191    1\n",
       "        ..\n",
       "11100    1\n",
       "43584    1\n",
       "927      1\n",
       "42755    1\n",
       "54887    1\n",
       "Name: verification_status, Length: 10975, dtype: int32"
      ]
     },
     "execution_count": 35,
     "metadata": {},
     "output_type": "execute_result"
    }
   ],
   "source": [
    "y_test[6257:]"
   ]
  },
  {
   "cell_type": "markdown",
   "id": "revolutionary-netscape",
   "metadata": {},
   "source": [
    "## Model-Trainning"
   ]
  },
  {
   "cell_type": "code",
   "execution_count": 36,
   "id": "sixth-third",
   "metadata": {},
   "outputs": [],
   "source": [
    "# classify function\n",
    "from sklearn.model_selection import cross_val_score\n",
    "def classify(model, x, y):\n",
    "    x_train, x_test, y_train, y_test = train_test_split(X, y, test_size=0.25, random_state=42)\n",
    "    model.fit(x_train, y_train)\n",
    "    print(\"Accuracy is\", model.score(x_test, y_test)*100)\n",
    "    # cross validation - it is used for better validation of model\n",
    "    # eg: cv-5, train-4, test-1\n",
    "    score = cross_val_score(model, x, y, cv=5)\n",
    "    print(\"Cross validation is\",np.mean(score)*100)"
   ]
  },
  {
   "cell_type": "code",
   "execution_count": 37,
   "id": "pediatric-flush",
   "metadata": {},
   "outputs": [
    {
     "name": "stdout",
     "output_type": "stream",
     "text": [
      "Accuracy is 61.652739090065\n",
      "Cross validation is 61.649281117171064\n"
     ]
    }
   ],
   "source": [
    "from sklearn.linear_model import LogisticRegression\n",
    "model = LogisticRegression()\n",
    "classify(model, X, y)"
   ]
  },
  {
   "cell_type": "code",
   "execution_count": 38,
   "id": "pharmaceutical-macedonia",
   "metadata": {},
   "outputs": [
    {
     "name": "stdout",
     "output_type": "stream",
     "text": [
      "Accuracy is 63.38207985143919\n",
      "Cross validation is 62.16442137631966\n"
     ]
    }
   ],
   "source": [
    "from sklearn.tree import DecisionTreeClassifier\n",
    "model = DecisionTreeClassifier()\n",
    "classify(model, X, y)"
   ]
  },
  {
   "cell_type": "code",
   "execution_count": 39,
   "id": "searching-killing",
   "metadata": {},
   "outputs": [
    {
     "name": "stdout",
     "output_type": "stream",
     "text": [
      "Accuracy is 69.11559888579387\n",
      "Cross validation is 65.71459494240186\n"
     ]
    }
   ],
   "source": [
    "from sklearn.ensemble import RandomForestClassifier,ExtraTreesClassifier\n",
    "model = RandomForestClassifier()\n",
    "classify(model,X,y)"
   ]
  },
  {
   "cell_type": "code",
   "execution_count": 40,
   "id": "coupled-reduction",
   "metadata": {},
   "outputs": [
    {
     "name": "stdout",
     "output_type": "stream",
     "text": [
      "Accuracy is 68.14066852367688\n",
      "Cross validation is 66.27313237880801\n"
     ]
    }
   ],
   "source": [
    "model = ExtraTreesClassifier()\n",
    "classify(model, X, y)"
   ]
  },
  {
   "cell_type": "code",
   "execution_count": 41,
   "id": "random-success",
   "metadata": {},
   "outputs": [
    {
     "name": "stdout",
     "output_type": "stream",
     "text": [
      "Accuracy is 16.055827005095658\n",
      "Cross validation is 4.508866461965145\n"
     ]
    }
   ],
   "source": [
    "from sklearn.linear_model import LinearRegression\n",
    "model = LinearRegression()\n",
    "classify(model,X,y)"
   ]
  },
  {
   "cell_type": "code",
   "execution_count": 42,
   "id": "subjective-gibson",
   "metadata": {},
   "outputs": [
    {
     "name": "stdout",
     "output_type": "stream",
     "text": [
      "Accuracy is 21.058111480425346\n",
      "Cross validation is 6.37421845479669\n"
     ]
    }
   ],
   "source": [
    "from sklearn.ensemble import RandomForestRegressor\n",
    "model = RandomForestRegressor()\n",
    "classify(model,X,y)"
   ]
  },
  {
   "cell_type": "code",
   "execution_count": 43,
   "id": "scientific-contrary",
   "metadata": {
    "scrolled": true
   },
   "outputs": [
    {
     "name": "stdout",
     "output_type": "stream",
     "text": [
      "Accuracy is 69.34772516248839\n",
      "Cross validation is 66.19045042146652\n"
     ]
    }
   ],
   "source": [
    "from sklearn.ensemble import GradientBoostingClassifier\n",
    "model = GradientBoostingClassifier()\n",
    "classify(model,X,y)"
   ]
  },
  {
   "cell_type": "code",
   "execution_count": 44,
   "id": "reasonable-shepherd",
   "metadata": {},
   "outputs": [
    {
     "name": "stdout",
     "output_type": "stream",
     "text": [
      "Accuracy is 62.563834726090995\n",
      "Cross validation is 56.59046397650685\n"
     ]
    }
   ],
   "source": [
    "from sklearn.neural_network import MLPClassifier\n",
    "model = MLPClassifier()\n",
    "classify(model,X,y)"
   ]
  },
  {
   "cell_type": "markdown",
   "id": "loose-energy",
   "metadata": {},
   "source": [
    "## Hypeparameter tuning"
   ]
  },
  {
   "cell_type": "code",
   "execution_count": 45,
   "id": "hidden-parks",
   "metadata": {},
   "outputs": [
    {
     "name": "stdout",
     "output_type": "stream",
     "text": [
      "Accuracy is 66.208217270195\n",
      "Cross validation is 64.26229181949633\n"
     ]
    }
   ],
   "source": [
    "model = RandomForestClassifier(n_estimators=100, min_samples_split=25, max_depth=7, max_features=1)\n",
    "classify(model, X, y)"
   ]
  },
  {
   "cell_type": "code",
   "execution_count": 46,
   "id": "basic-pitch",
   "metadata": {},
   "outputs": [
    {
     "name": "stdout",
     "output_type": "stream",
     "text": [
      "Accuracy is 69.53922934076138\n",
      "Cross validation is 65.94383487982346\n"
     ]
    }
   ],
   "source": [
    "model = GradientBoostingClassifier(n_estimators=100,min_samples_split=25, max_depth=7, max_features=1)\n",
    "classify(model,X,y)"
   ]
  },
  {
   "cell_type": "markdown",
   "id": "measured-status",
   "metadata": {},
   "source": [
    "## Confusion Metrics"
   ]
  },
  {
   "cell_type": "code",
   "execution_count": 47,
   "id": "heavy-actor",
   "metadata": {},
   "outputs": [
    {
     "data": {
      "text/plain": [
       "GradientBoostingClassifier()"
      ]
     },
     "execution_count": 47,
     "metadata": {},
     "output_type": "execute_result"
    }
   ],
   "source": [
    "model = GradientBoostingClassifier()\n",
    "model.fit(x_train, y_train)"
   ]
  },
  {
   "cell_type": "code",
   "execution_count": 48,
   "id": "fleet-electron",
   "metadata": {},
   "outputs": [
    {
     "data": {
      "text/plain": [
       "array([[4172, 2436],\n",
       "       [2846, 7778]], dtype=int64)"
      ]
     },
     "execution_count": 48,
     "metadata": {},
     "output_type": "execute_result"
    }
   ],
   "source": [
    "from sklearn.metrics import confusion_matrix\n",
    "y_pred = model.predict(x_test)\n",
    "cm = confusion_matrix(y_test, y_pred)\n",
    "cm"
   ]
  },
  {
   "cell_type": "code",
   "execution_count": 49,
   "id": "caring-removal",
   "metadata": {},
   "outputs": [
    {
     "data": {
      "text/plain": [
       "<AxesSubplot:>"
      ]
     },
     "execution_count": 49,
     "metadata": {},
     "output_type": "execute_result"
    },
    {
     "data": {
      "image/png": "[encoded data removed]",
      "text/plain": [
       "<Figure size 432x288 with 2 Axes>"
      ]
     },
     "metadata": {
      "needs_background": "light"
     },
     "output_type": "display_data"
    }
   ],
   "source": [
    "sns.heatmap(cm,annot = True)"
   ]
  },
  {
   "cell_type": "markdown",
   "id": "brave-electronics",
   "metadata": {},
   "source": [
    "## Final choosing Model"
   ]
  },
  {
   "cell_type": "raw",
   "id": "popular-minneapolis",
   "metadata": {},
   "source": [
    "we are choosing GradientBoostingClassifier model bcz \n",
    "we find the best accuracy and best cross validation"
   ]
  },
  {
   "cell_type": "code",
   "execution_count": 50,
   "id": "automotive-nickname",
   "metadata": {},
   "outputs": [
    {
     "data": {
      "text/plain": [
       "['loan.joblib']"
      ]
     },
     "execution_count": 50,
     "metadata": {},
     "output_type": "execute_result"
    }
   ],
   "source": [
    "from joblib import dump,load\n",
    "dump(model,'loan.joblib')"
   ]
  },
  {
   "cell_type": "code",
   "execution_count": 51,
   "id": "matched-johns",
   "metadata": {},
   "outputs": [],
   "source": [
    "#testing the model now"
   ]
  },
  {
   "cell_type": "code",
   "execution_count": 52,
   "id": "tender-dispute",
   "metadata": {},
   "outputs": [],
   "source": [
    "final_prediction = model.predict(x_test)"
   ]
  },
  {
   "cell_type": "code",
   "execution_count": 53,
   "id": "ecological-culture",
   "metadata": {},
   "outputs": [
    {
     "name": "stdout",
     "output_type": "stream",
     "text": [
      "[1 1 1 1 1 1 0 0 0 1 0 1 0 1 0 0 1 1 1 1] [1, 1, 1, 1, 1, 1, 0, 1, 1, 1, 0, 1, 1, 1, 0, 0, 1, 1, 1, 0]\n"
     ]
    }
   ],
   "source": [
    "print(final_prediction[:20],list(y_test[:20]))"
   ]
  },
  {
   "cell_type": "code",
   "execution_count": 55,
   "id": "classical-collins",
   "metadata": {},
   "outputs": [
    {
     "name": "stdout",
     "output_type": "stream",
     "text": [
      "list[       term  int_rate  home_ownership  annual_inc  purpose  addr_state    dti  \\\n",
      "6257      0      7.90               0     68250.0        1          42  22.33   \n",
      "25680     0     11.86               4     69996.0        2           9  12.39   \n",
      "47233     0     14.30               4    140000.0        2           4  14.31   \n",
      "60152     0      7.90               0    140000.0        2           6   4.91   \n",
      "49998     0     15.61               0     90000.0        1           4  13.99   \n",
      "...     ...       ...             ...         ...      ...         ...    ...   \n",
      "11100     0     21.74               4     23000.0        2          40   4.70   \n",
      "43584     0     21.70               4     42000.0        2          14  22.49   \n",
      "927       0     10.65               4     46330.0        2          46   6.53   \n",
      "42755     1     13.67               0     60000.0        1          22  11.46   \n",
      "54887     0     15.88               4    100000.0       11          42   8.94   \n",
      "\n",
      "       delinq_2yrs  revol_util  bad_loan  emp_CrLength  loan_amntLog  \\\n",
      "6257           0.0        50.3       0.0          16.0      9.740969   \n",
      "25680          1.0        63.4       0.0          50.0      9.305651   \n",
      "47233          0.0        30.9       1.0          13.0      9.680344   \n",
      "60152          0.0        38.9       0.0          26.0     10.239960   \n",
      "49998          3.0        60.7       0.0          34.0      9.680344   \n",
      "...            ...         ...       ...           ...           ...   \n",
      "11100          0.0        99.4       1.0           4.0      7.937375   \n",
      "43584          0.0        53.3       1.0          19.0      9.740969   \n",
      "927            0.0        53.5       0.0          10.0      8.987197   \n",
      "42755          0.0        28.9       0.0          15.0      9.615805   \n",
      "54887          0.0        19.0       0.0           7.0      9.202812   \n",
      "\n",
      "       total_accLog  \n",
      "6257       3.401197  \n",
      "25680      3.761200  \n",
      "47233      2.197225  \n",
      "60152      2.772589  \n",
      "49998      3.496508  \n",
      "...             ...  \n",
      "11100      2.079442  \n",
      "43584      2.397895  \n",
      "927        2.890372  \n",
      "42755      3.401197  \n",
      "54887      2.639057  \n",
      "\n",
      "[17232 rows x 13 columns]]\n"
     ]
    }
   ],
   "source": [
    "print(list[x_test])"
   ]
  }
 ],
 "metadata": {
  "kernelspec": {
   "display_name": "Python 3",
   "language": "python",
   "name": "python3"
  },
  "language_info": {
   "codemirror_mode": {
    "name": "ipython",
    "version": 3
   },
   "file_extension": ".py",
   "mimetype": "text/x-python",
   "name": "python",
   "nbconvert_exporter": "python",
   "pygments_lexer": "ipython3",
   "version": "3.9.0"
  }
 },
 "nbformat": 4,
 "nbformat_minor": 5
}
