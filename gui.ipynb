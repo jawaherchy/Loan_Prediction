{
 "cells": [
  {
   "cell_type": "code",
   "execution_count": 1,
   "id": "radical-universe",
   "metadata": {},
   "outputs": [],
   "source": [
    "# using the model\n",
    "from joblib import dump,load\n",
    "import numpy as np\n",
    "model = load('loan.joblib')"
   ]
  },
  {
   "cell_type": "code",
   "execution_count": 20,
   "id": "imported-agency",
   "metadata": {},
   "outputs": [
    {
     "name": "stdout",
     "output_type": "stream",
     "text": [
      "enter a string in the GUI\n"
     ]
    }
   ],
   "source": [
    "import tkinter as tk\n",
    "from tkinter import ttk\n",
    "\n",
    "class MyApp(tk.Tk):\n",
    "    def __init__(self):\n",
    "        tk.Tk.__init__(self)\n",
    "        self.title(\"Loan Prediction\")\n",
    "        self.geometry(\"1200x800\")\n",
    "        \n",
    "        entry_txt = tk.Label(self,text=\"Features\",font=(\"times new roman\",25,\"bold\"),bd=3)\n",
    "        entry_txt.place(x=110,y=100,height=40,width=120)\n",
    "        \n",
    "        self.entry = tk.Entry(self,font=(\"times new roman\",25,\"bold\"),bd=3)\n",
    "        self.entry.place(x=250,y=100,height=40,width=700)\n",
    "        Prediction_button = tk.Button(self, text=\"Prediction\", command=self.Prediction)\n",
    "        Prediction_button.place(x=570,y=200,height=40,width=100)\n",
    "        close_button = tk.Button(self, text=\"Close\", command=self.close)\n",
    "        close_button.place(x=570,y=300,height=40,width=100)\n",
    "        \n",
    "        self.string = \"\"\n",
    "        \n",
    "\n",
    "    def close(self):\n",
    "        global result\n",
    "        self.string = self.entry.get()\n",
    "        self.destroy()\n",
    "        \n",
    "    def Prediction(self):\n",
    "        global result\n",
    "        new_list = []\n",
    "        self.string1 = self.entry.get()\n",
    "        # using the model\n",
    "        from joblib import dump,load\n",
    "        import numpy as np\n",
    "        model = load('loan.joblib')\n",
    "        #print(type(self.string1))\n",
    "        self.string1= self.string1.split(\",\")\n",
    "        features = list(self.string1)\n",
    "        #print(type(features))\n",
    "        print(features)\n",
    "        for i in features:\n",
    "            new_list.append(float(i))\n",
    "            \n",
    "        #print(type(new_list))\n",
    "        \n",
    "        features2 =(np.array([new_list])) \n",
    "        res=(model.predict(features2))\n",
    "        if res == 1:\n",
    "            w = tk.Label(self, text=\"verified,u can get loan from us\",font=(\"times new roman\",25,\"bold\"),bd=5)\n",
    "            w.place(x=300,y=450,height=40,width=600)\n",
    "            print(\"verified,u can get loan from us\")\n",
    "        elif res == 0:\n",
    "            w = tk.Label(self, text=\"Sorry,u are not verified for loan\")\n",
    "            w.place(x=300,y=450,height=40,width=600)\n",
    "            print(\"Sorry,u are not verified for loan\")\n",
    "        else:\n",
    "            w = tk.Label(self, text=\"something wrong\")\n",
    "            w.place(x=300,y=450,height=40,width=600)\n",
    "            print(\"something wrong\")\n",
    "            \n",
    "        \n",
    "        \n",
    "        \n",
    "\n",
    "    def mainloop(self):\n",
    "        tk.Tk.mainloop(self)\n",
    "\n",
    "        return self.string\n",
    "\n",
    "print(\"enter a string in the GUI\")\n",
    "app = MyApp()\n",
    "result = app.mainloop()"
   ]
  },
  {
   "cell_type": "code",
   "execution_count": null,
   "id": "certified-convention",
   "metadata": {},
   "outputs": [],
   "source": []
  },
  {
   "cell_type": "code",
   "execution_count": null,
   "id": "sweet-drama",
   "metadata": {},
   "outputs": [],
   "source": []
  },
  {
   "cell_type": "code",
   "execution_count": null,
   "id": "fluid-temple",
   "metadata": {},
   "outputs": [],
   "source": []
  }
 ],
 "metadata": {
  "kernelspec": {
   "display_name": "Python 3",
   "language": "python",
   "name": "python3"
  },
  "language_info": {
   "codemirror_mode": {
    "name": "ipython",
    "version": 3
   },
   "file_extension": ".py",
   "mimetype": "text/x-python",
   "name": "python",
   "nbconvert_exporter": "python",
   "pygments_lexer": "ipython3",
   "version": "3.9.0"
  }
 },
 "nbformat": 4,
 "nbformat_minor": 5
}
